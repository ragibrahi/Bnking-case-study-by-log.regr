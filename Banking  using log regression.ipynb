{
 "cells": [
  {
   "cell_type": "code",
   "execution_count": 1,
   "metadata": {},
   "outputs": [],
   "source": [
    "import matplotlib.pyplot as plt\n",
    "import numpy as np\n",
    "import pandas as pd\n",
    "from sklearn import datasets, linear_model\n",
    "from mpl_toolkits.mplot3d import axes3d\n",
    "import seaborn as sns"
   ]
  },
  {
   "cell_type": "code",
   "execution_count": 2,
   "metadata": {},
   "outputs": [],
   "source": [
    "from sklearn.preprocessing import scale\n",
    "import sklearn.linear_model as skl_lm\n",
    "from sklearn.metrics import mean_squared_error, r2_score"
   ]
  },
  {
   "cell_type": "code",
   "execution_count": 3,
   "metadata": {},
   "outputs": [],
   "source": [
    "#For LR\n",
    "import statsmodels.api as sm\n",
    "#For LR That looks like R\n",
    "import statsmodels.formula.api as smf\n",
    "from statsmodels.graphics.mosaicplot import mosaic\n",
    "from sklearn.decomposition import PCA\n",
    "from sklearn.preprocessing import scale"
   ]
  },
  {
   "cell_type": "code",
   "execution_count": 4,
   "metadata": {},
   "outputs": [
    {
     "name": "stdout",
     "output_type": "stream",
     "text": [
      "Packages LOADED\n"
     ]
    }
   ],
   "source": [
    "print(\"Packages LOADED\")"
   ]
  },
  {
   "cell_type": "code",
   "execution_count": 9,
   "metadata": {},
   "outputs": [
    {
     "name": "stdout",
     "output_type": "stream",
     "text": [
      "E:\\01_2019_DS\\Datasets\n"
     ]
    }
   ],
   "source": [
    "import os\n",
    "print(os.getcwd())\n",
    "os.chdir(\"E:\\\\01_2019_DS\\\\Datasets\")\n",
    "#df = pd.read_csv(\"dir\")"
   ]
  },
  {
   "cell_type": "code",
   "execution_count": 10,
   "metadata": {},
   "outputs": [],
   "source": [
    "df_base = pd.read_csv(\"Log-Reg-Case-Study.csv\")"
   ]
  },
  {
   "cell_type": "code",
   "execution_count": 11,
   "metadata": {},
   "outputs": [
    {
     "data": {
      "text/html": [
       "<div>\n",
       "<style scoped>\n",
       "    .dataframe tbody tr th:only-of-type {\n",
       "        vertical-align: middle;\n",
       "    }\n",
       "\n",
       "    .dataframe tbody tr th {\n",
       "        vertical-align: top;\n",
       "    }\n",
       "\n",
       "    .dataframe thead th {\n",
       "        text-align: right;\n",
       "    }\n",
       "</style>\n",
       "<table border=\"1\" class=\"dataframe\">\n",
       "  <thead>\n",
       "    <tr style=\"text-align: right;\">\n",
       "      <th></th>\n",
       "      <th>Customer_ID</th>\n",
       "      <th>Credit_Amount</th>\n",
       "      <th>Purpose_Credit_Taken</th>\n",
       "      <th>Duration_in_Months</th>\n",
       "      <th>Status_Checking_Accnt</th>\n",
       "      <th>Credit_History</th>\n",
       "      <th>Job_Status</th>\n",
       "      <th>Years_At_Present_Employment</th>\n",
       "      <th>Marital_Status_Gender</th>\n",
       "      <th>Other_Debtors_Guarantors</th>\n",
       "      <th>Current_Address_Yrs</th>\n",
       "      <th>Age</th>\n",
       "      <th>Housing</th>\n",
       "      <th>Num_Credits</th>\n",
       "      <th>Num_Dependents</th>\n",
       "      <th>Foreign_Worker</th>\n",
       "      <th>Default_On_Payment</th>\n",
       "    </tr>\n",
       "  </thead>\n",
       "  <tbody>\n",
       "    <tr>\n",
       "      <th>0</th>\n",
       "      <td>C15001</td>\n",
       "      <td>3939</td>\n",
       "      <td>P40</td>\n",
       "      <td>11</td>\n",
       "      <td>S11</td>\n",
       "      <td>A34</td>\n",
       "      <td>A172</td>\n",
       "      <td>E73</td>\n",
       "      <td>A93</td>\n",
       "      <td>A101</td>\n",
       "      <td>2</td>\n",
       "      <td>40</td>\n",
       "      <td>A152</td>\n",
       "      <td>2</td>\n",
       "      <td>2</td>\n",
       "      <td>A201</td>\n",
       "      <td>0</td>\n",
       "    </tr>\n",
       "    <tr>\n",
       "      <th>1</th>\n",
       "      <td>C15002</td>\n",
       "      <td>1795</td>\n",
       "      <td>P43</td>\n",
       "      <td>18</td>\n",
       "      <td>S12</td>\n",
       "      <td>A34</td>\n",
       "      <td>A172</td>\n",
       "      <td>E75</td>\n",
       "      <td>A92</td>\n",
       "      <td>A103</td>\n",
       "      <td>4</td>\n",
       "      <td>48</td>\n",
       "      <td>A151</td>\n",
       "      <td>2</td>\n",
       "      <td>1</td>\n",
       "      <td>A201</td>\n",
       "      <td>0</td>\n",
       "    </tr>\n",
       "    <tr>\n",
       "      <th>2</th>\n",
       "      <td>C15003</td>\n",
       "      <td>6143</td>\n",
       "      <td>P41</td>\n",
       "      <td>48</td>\n",
       "      <td>S11</td>\n",
       "      <td>A34</td>\n",
       "      <td>A172</td>\n",
       "      <td>E75</td>\n",
       "      <td>A92</td>\n",
       "      <td>A101</td>\n",
       "      <td>4</td>\n",
       "      <td>58</td>\n",
       "      <td>A153</td>\n",
       "      <td>2</td>\n",
       "      <td>1</td>\n",
       "      <td>A201</td>\n",
       "      <td>1</td>\n",
       "    </tr>\n",
       "    <tr>\n",
       "      <th>3</th>\n",
       "      <td>C15004</td>\n",
       "      <td>2675</td>\n",
       "      <td>P43</td>\n",
       "      <td>22</td>\n",
       "      <td>S14</td>\n",
       "      <td>A32</td>\n",
       "      <td>A173</td>\n",
       "      <td>E75</td>\n",
       "      <td>A93</td>\n",
       "      <td>A101</td>\n",
       "      <td>4</td>\n",
       "      <td>40</td>\n",
       "      <td>A152</td>\n",
       "      <td>1</td>\n",
       "      <td>1</td>\n",
       "      <td>A201</td>\n",
       "      <td>0</td>\n",
       "    </tr>\n",
       "    <tr>\n",
       "      <th>4</th>\n",
       "      <td>C15005</td>\n",
       "      <td>12389</td>\n",
       "      <td>P40</td>\n",
       "      <td>36</td>\n",
       "      <td>S12</td>\n",
       "      <td>A32</td>\n",
       "      <td>NaN</td>\n",
       "      <td>E73</td>\n",
       "      <td>A93</td>\n",
       "      <td>A101</td>\n",
       "      <td>4</td>\n",
       "      <td>37</td>\n",
       "      <td>A153</td>\n",
       "      <td>1</td>\n",
       "      <td>1</td>\n",
       "      <td>A201</td>\n",
       "      <td>1</td>\n",
       "    </tr>\n",
       "  </tbody>\n",
       "</table>\n",
       "</div>"
      ],
      "text/plain": [
       "  Customer_ID  Credit_Amount Purpose_Credit_Taken  Duration_in_Months  \\\n",
       "0      C15001           3939                  P40                  11   \n",
       "1      C15002           1795                  P43                  18   \n",
       "2      C15003           6143                  P41                  48   \n",
       "3      C15004           2675                  P43                  22   \n",
       "4      C15005          12389                  P40                  36   \n",
       "\n",
       "  Status_Checking_Accnt Credit_History Job_Status Years_At_Present_Employment  \\\n",
       "0                   S11            A34       A172                         E73   \n",
       "1                   S12            A34       A172                         E75   \n",
       "2                   S11            A34       A172                         E75   \n",
       "3                   S14            A32       A173                         E75   \n",
       "4                   S12            A32        NaN                         E73   \n",
       "\n",
       "  Marital_Status_Gender Other_Debtors_Guarantors  Current_Address_Yrs  Age  \\\n",
       "0                   A93                     A101                    2   40   \n",
       "1                   A92                     A103                    4   48   \n",
       "2                   A92                     A101                    4   58   \n",
       "3                   A93                     A101                    4   40   \n",
       "4                   A93                     A101                    4   37   \n",
       "\n",
       "  Housing  Num_Credits  Num_Dependents Foreign_Worker  Default_On_Payment  \n",
       "0    A152            2               2           A201                   0  \n",
       "1    A151            2               1           A201                   0  \n",
       "2    A153            2               1           A201                   1  \n",
       "3    A152            1               1           A201                   0  \n",
       "4    A153            1               1           A201                   1  "
      ]
     },
     "execution_count": 11,
     "metadata": {},
     "output_type": "execute_result"
    }
   ],
   "source": [
    "df_base.head()"
   ]
  },
  {
   "cell_type": "code",
   "execution_count": 12,
   "metadata": {},
   "outputs": [],
   "source": [
    "from sklearn.linear_model import LogisticRegression\n",
    "import numpy as np\n"
   ]
  },
  {
   "cell_type": "code",
   "execution_count": 13,
   "metadata": {},
   "outputs": [],
   "source": [
    "data = df_base\n",
    "\n",
    "arr = df_base.values"
   ]
  },
  {
   "cell_type": "code",
   "execution_count": 14,
   "metadata": {},
   "outputs": [
    {
     "name": "stderr",
     "output_type": "stream",
     "text": [
      "C:\\Users\\skrag\\Anaconda3\\lib\\site-packages\\ipykernel_launcher.py:2: DeprecationWarning: \n",
      ".ix is deprecated. Please use\n",
      ".loc for label based indexing or\n",
      ".iloc for positional indexing\n",
      "\n",
      "See the documentation here:\n",
      "http://pandas.pydata.org/pandas-docs/stable/indexing.html#ix-indexer-is-deprecated\n",
      "  \n",
      "C:\\Users\\skrag\\Anaconda3\\lib\\site-packages\\ipykernel_launcher.py:5: DeprecationWarning: \n",
      ".ix is deprecated. Please use\n",
      ".loc for label based indexing or\n",
      ".iloc for positional indexing\n",
      "\n",
      "See the documentation here:\n",
      "http://pandas.pydata.org/pandas-docs/stable/indexing.html#ix-indexer-is-deprecated\n",
      "  \"\"\"\n"
     ]
    },
    {
     "data": {
      "text/plain": [
       "0       0\n",
       "1       0\n",
       "2       1\n",
       "3       0\n",
       "4       1\n",
       "5       0\n",
       "6       0\n",
       "7       0\n",
       "8       0\n",
       "9       1\n",
       "10      0\n",
       "11      0\n",
       "12      1\n",
       "13      0\n",
       "14      0\n",
       "15      0\n",
       "16      1\n",
       "17      1\n",
       "18      1\n",
       "19      0\n",
       "20      0\n",
       "21      1\n",
       "22      0\n",
       "23      0\n",
       "24      0\n",
       "25      0\n",
       "26      0\n",
       "27      1\n",
       "28      1\n",
       "29      0\n",
       "       ..\n",
       "4970    0\n",
       "4971    1\n",
       "4972    0\n",
       "4973    0\n",
       "4974    0\n",
       "4975    0\n",
       "4976    1\n",
       "4977    0\n",
       "4978    0\n",
       "4979    1\n",
       "4980    0\n",
       "4981    1\n",
       "4982    0\n",
       "4983    1\n",
       "4984    1\n",
       "4985    0\n",
       "4986    1\n",
       "4987    0\n",
       "4988    0\n",
       "4989    0\n",
       "4990    0\n",
       "4991    1\n",
       "4992    0\n",
       "4993    0\n",
       "4994    0\n",
       "4995    0\n",
       "4996    0\n",
       "4997    0\n",
       "4998    0\n",
       "4999    0\n",
       "Name: Default_On_Payment, Length: 5000, dtype: int64"
      ]
     },
     "execution_count": 14,
     "metadata": {},
     "output_type": "execute_result"
    }
   ],
   "source": [
    "#train dataset\n",
    "X = data.ix[:,(1,10,11,13)] # ivs for train\n",
    "X\n",
    "\n",
    "y = data.ix[:,16]\n",
    "y\n",
    "\n"
   ]
  },
  {
   "cell_type": "code",
   "execution_count": 15,
   "metadata": {},
   "outputs": [
    {
     "name": "stderr",
     "output_type": "stream",
     "text": [
      "C:\\Users\\skrag\\Anaconda3\\lib\\site-packages\\sklearn\\linear_model\\logistic.py:433: FutureWarning: Default solver will be changed to 'lbfgs' in 0.22. Specify a solver to silence this warning.\n",
      "  FutureWarning)\n"
     ]
    },
    {
     "data": {
      "text/plain": [
       "LogisticRegression(C=1.0, class_weight=None, dual=False, fit_intercept=True,\n",
       "          intercept_scaling=1, max_iter=100, multi_class='warn',\n",
       "          n_jobs=None, penalty='l2', random_state=None, solver='warn',\n",
       "          tol=0.0001, verbose=0, warm_start=False)"
      ]
     },
     "execution_count": 15,
     "metadata": {},
     "output_type": "execute_result"
    }
   ],
   "source": [
    "regr = LogisticRegression()\n",
    "\n",
    "regr.fit(X, y)\n"
   ]
  },
  {
   "cell_type": "code",
   "execution_count": 16,
   "metadata": {
    "scrolled": true
   },
   "outputs": [
    {
     "data": {
      "text/plain": [
       "0       0\n",
       "1       0\n",
       "2       1\n",
       "3       0\n",
       "4       1\n",
       "5       0\n",
       "6       0\n",
       "7       0\n",
       "8       0\n",
       "9       1\n",
       "10      0\n",
       "11      0\n",
       "12      1\n",
       "13      0\n",
       "14      0\n",
       "15      0\n",
       "16      1\n",
       "17      1\n",
       "18      1\n",
       "19      0\n",
       "20      0\n",
       "21      1\n",
       "22      0\n",
       "23      0\n",
       "24      0\n",
       "25      0\n",
       "26      0\n",
       "27      1\n",
       "28      1\n",
       "29      0\n",
       "       ..\n",
       "4970    0\n",
       "4971    1\n",
       "4972    0\n",
       "4973    0\n",
       "4974    0\n",
       "4975    0\n",
       "4976    1\n",
       "4977    0\n",
       "4978    0\n",
       "4979    1\n",
       "4980    0\n",
       "4981    1\n",
       "4982    0\n",
       "4983    1\n",
       "4984    1\n",
       "4985    0\n",
       "4986    1\n",
       "4987    0\n",
       "4988    0\n",
       "4989    0\n",
       "4990    0\n",
       "4991    1\n",
       "4992    0\n",
       "4993    0\n",
       "4994    0\n",
       "4995    0\n",
       "4996    0\n",
       "4997    0\n",
       "4998    0\n",
       "4999    0\n",
       "Name: Default_On_Payment, Length: 5000, dtype: int64"
      ]
     },
     "execution_count": 16,
     "metadata": {},
     "output_type": "execute_result"
    }
   ],
   "source": [
    "pred = regr.predict(X)\n",
    "pred\n",
    "\n",
    "y"
   ]
  },
  {
   "cell_type": "code",
   "execution_count": 22,
   "metadata": {},
   "outputs": [
    {
     "data": {
      "text/plain": [
       "\"m_df = pd.DataFrame(confusion_matrix(y, pred).T, index=regr.classes_,columns=regr.classes_)\\ncm_df.index.name = 'Predicted'\\ncm_df.columns.name = 'True'\\nprint(cm_df)\\n\\nprint(classification_report(y_test, pred))\\n\\nregr.score(X_test,y_test)\""
      ]
     },
     "execution_count": 22,
     "metadata": {},
     "output_type": "execute_result"
    }
   ],
   "source": [
    "\n",
    "'''m_df = pd.DataFrame(confusion_matrix(y, pred).T, index=regr.classes_,columns=regr.classes_)\n",
    "cm_df.index.name = 'Predicted'\n",
    "cm_df.columns.name = 'True'\n",
    "print(cm_df)\n",
    "\n",
    "print(classification_report(y_test, pred))\n",
    "\n",
    "regr.score(X_test,y_test)'''\n"
   ]
  },
  {
   "cell_type": "code",
   "execution_count": 23,
   "metadata": {},
   "outputs": [
    {
     "name": "stdout",
     "output_type": "stream",
     "text": [
      "     Customer_ID  Credit_Amount Purpose_Credit_Taken  Duration_in_Months  \\\n",
      "1357      C16358           1864                  P46                  18   \n",
      "2137      C17138           2439                  P43                  24   \n",
      "4830      C19831           1188                  P49                  21   \n",
      "3119      C18120           2279                  P43                  12   \n",
      "2873      C17874            930                  P43                  12   \n",
      "\n",
      "     Status_Checking_Accnt Credit_History Job_Status  \\\n",
      "1357                   S14            A34       A173   \n",
      "2137                   S11            A32       A173   \n",
      "4830                   S12            A32       A173   \n",
      "3119                   S14            A32       A173   \n",
      "2873                   S14            A34       A173   \n",
      "\n",
      "     Years_At_Present_Employment Marital_Status_Gender  \\\n",
      "1357                         E73                   A92   \n",
      "2137                         E72                   A92   \n",
      "4830                         E75                   A92   \n",
      "3119                         E73                   A93   \n",
      "2873                         E75                   A93   \n",
      "\n",
      "     Other_Debtors_Guarantors  Current_Address_Yrs  Age Housing  Num_Credits  \\\n",
      "1357                     A101                    2   30    A152            2   \n",
      "2137                     A101                    4   35    A152            1   \n",
      "4830                     A101                    4   39    A152            1   \n",
      "3119                     A101                    4   37    A153            1   \n",
      "2873                     A101                    4   65    A152            4   \n",
      "\n",
      "      Num_Dependents Foreign_Worker  Default_On_Payment  \n",
      "1357               1           A201                   1  \n",
      "2137               1           A201                   1  \n",
      "4830               2           A201                   1  \n",
      "3119               1           A201                   0  \n",
      "2873               1           A201                   0  \n"
     ]
    }
   ],
   "source": [
    "#partioning\n",
    "model_data = df_base.sample(frac=0.7)\n",
    "print(model_data.head())\n"
   ]
  },
  {
   "cell_type": "code",
   "execution_count": 24,
   "metadata": {},
   "outputs": [
    {
     "name": "stdout",
     "output_type": "stream",
     "text": [
      "     Customer_ID  Credit_Amount Purpose_Credit_Taken  Duration_in_Months  \\\n",
      "2706      C17707            338                  P43                   6   \n",
      "2436      C17437           2625                  P40                  16   \n",
      "1201      C16202           6304                  P49                  36   \n",
      "1486      C16487           2957                  P41                  24   \n",
      "4286      C19287            590                  P43                   6   \n",
      "\n",
      "     Status_Checking_Accnt Credit_History Job_Status  \\\n",
      "2706                   S11            A34       A173   \n",
      "2436                   S11            A34       A173   \n",
      "1201                   S14            A34       A173   \n",
      "1486                   S11            A34       A173   \n",
      "4286                   S12            A32       A172   \n",
      "\n",
      "     Years_At_Present_Employment Marital_Status_Gender  \\\n",
      "2706                         E75                   A93   \n",
      "2436                         E75                   A93   \n",
      "1201                         E75                   A93   \n",
      "1486                         E75                   A93   \n",
      "4286                         E72                   A94   \n",
      "\n",
      "     Other_Debtors_Guarantors  Current_Address_Yrs  Age Housing  Num_Credits  \\\n",
      "2706                     A101                    4   52    A152            2   \n",
      "2436                     A103                    4   43    A151            1   \n",
      "1201                     A101                    4   36    A152            2   \n",
      "1486                     A101                    4   63    A152            2   \n",
      "4286                     A101                    3   26    A152            1   \n",
      "\n",
      "      Num_Dependents Foreign_Worker  Default_On_Payment  \n",
      "2706               1           A201                   0  \n",
      "2436               1           A201                   1  \n",
      "1201               1           A201                   0  \n",
      "1486               1           A201                   0  \n",
      "4286               1           A202                   0  \n"
     ]
    }
   ],
   "source": [
    "model_data = df_base.sample(frac=0.7,random_state=1234)\n",
    "print(model_data.head())\n"
   ]
  },
  {
   "cell_type": "code",
   "execution_count": 25,
   "metadata": {},
   "outputs": [
    {
     "name": "stdout",
     "output_type": "stream",
     "text": [
      "(3500, 17)\n"
     ]
    }
   ],
   "source": [
    "df_base.shape\n",
    "\n",
    "model_data = df_base.sample(frac=0.7,random_state=1234)\n",
    "print(model_data.shape)"
   ]
  },
  {
   "cell_type": "code",
   "execution_count": 26,
   "metadata": {},
   "outputs": [
    {
     "name": "stdout",
     "output_type": "stream",
     "text": [
      "(1500, 17)\n"
     ]
    }
   ],
   "source": [
    "test_data = df_base.loc[~df_base.index.isin(model_data.index), :]\n",
    "print(test_data.shape)"
   ]
  },
  {
   "cell_type": "code",
   "execution_count": 27,
   "metadata": {},
   "outputs": [],
   "source": [
    "#univariate analysis \n",
    "#capping(handling the outliers \n",
    "df = model_data\n"
   ]
  },
  {
   "cell_type": "code",
   "execution_count": 28,
   "metadata": {},
   "outputs": [
    {
     "name": "stdout",
     "output_type": "stream",
     "text": [
      "count    3500.000000\n",
      "mean       35.509143\n",
      "std        11.321975\n",
      "min        19.000000\n",
      "25%        27.000000\n",
      "50%        33.000000\n",
      "75%        42.000000\n",
      "max        85.000000\n",
      "Name: Age, dtype: float64\n",
      "74.0\n",
      "74.0\n",
      "75.0\n"
     ]
    }
   ],
   "source": [
    "print(df.Age.describe())\n",
    "\n",
    "print(df.Age.quantile(q=0.995))\n",
    "\n",
    "print(df.Age.quantile(q=0.997))\n",
    "\n",
    "print(df.Age.quantile(q=0.999))\n"
   ]
  },
  {
   "cell_type": "code",
   "execution_count": 29,
   "metadata": {},
   "outputs": [],
   "source": [
    "data = df"
   ]
  },
  {
   "cell_type": "code",
   "execution_count": 30,
   "metadata": {},
   "outputs": [
    {
     "name": "stdout",
     "output_type": "stream",
     "text": [
      "19\n",
      "85\n"
     ]
    }
   ],
   "source": [
    "print(min(df.Age))\n",
    "print(max(df.Age))"
   ]
  },
  {
   "cell_type": "code",
   "execution_count": 31,
   "metadata": {},
   "outputs": [
    {
     "name": "stdout",
     "output_type": "stream",
     "text": [
      "19\n",
      "75\n"
     ]
    }
   ],
   "source": [
    "df.loc[df['Age']>75,'Age']=75\n",
    "print(min(df.Age))\n",
    "print(max(df.Age))"
   ]
  },
  {
   "cell_type": "code",
   "execution_count": 32,
   "metadata": {},
   "outputs": [],
   "source": [
    "# *** Missing Vals"
   ]
  },
  {
   "cell_type": "code",
   "execution_count": 33,
   "metadata": {},
   "outputs": [
    {
     "data": {
      "text/plain": [
       "True"
      ]
     },
     "execution_count": 33,
     "metadata": {},
     "output_type": "execute_result"
    }
   ],
   "source": [
    "df.isnull().values.any()"
   ]
  },
  {
   "cell_type": "code",
   "execution_count": 34,
   "metadata": {},
   "outputs": [
    {
     "data": {
      "text/plain": [
       "Customer_ID                    0\n",
       "Credit_Amount                  0\n",
       "Purpose_Credit_Taken           0\n",
       "Duration_in_Months             0\n",
       "Status_Checking_Accnt          0\n",
       "Credit_History                 0\n",
       "Job_Status                     9\n",
       "Years_At_Present_Employment    0\n",
       "Marital_Status_Gender          0\n",
       "Other_Debtors_Guarantors       0\n",
       "Current_Address_Yrs            0\n",
       "Age                            0\n",
       "Housing                        4\n",
       "Num_Credits                    0\n",
       "Num_Dependents                 0\n",
       "Foreign_Worker                 0\n",
       "Default_On_Payment             0\n",
       "dtype: int64"
      ]
     },
     "execution_count": 34,
     "metadata": {},
     "output_type": "execute_result"
    }
   ],
   "source": [
    "df.isnull().sum()"
   ]
  },
  {
   "cell_type": "code",
   "execution_count": 35,
   "metadata": {},
   "outputs": [
    {
     "data": {
      "text/plain": [
       "13"
      ]
     },
     "execution_count": 35,
     "metadata": {},
     "output_type": "execute_result"
    }
   ],
   "source": [
    "df.isnull().sum().sum()"
   ]
  },
  {
   "cell_type": "code",
   "execution_count": 36,
   "metadata": {},
   "outputs": [
    {
     "data": {
      "text/html": [
       "<div>\n",
       "<style scoped>\n",
       "    .dataframe tbody tr th:only-of-type {\n",
       "        vertical-align: middle;\n",
       "    }\n",
       "\n",
       "    .dataframe tbody tr th {\n",
       "        vertical-align: top;\n",
       "    }\n",
       "\n",
       "    .dataframe thead th {\n",
       "        text-align: right;\n",
       "    }\n",
       "</style>\n",
       "<table border=\"1\" class=\"dataframe\">\n",
       "  <thead>\n",
       "    <tr style=\"text-align: right;\">\n",
       "      <th>Default_On_Payment</th>\n",
       "      <th>0</th>\n",
       "      <th>1</th>\n",
       "    </tr>\n",
       "    <tr>\n",
       "      <th>Housing</th>\n",
       "      <th></th>\n",
       "      <th></th>\n",
       "    </tr>\n",
       "  </thead>\n",
       "  <tbody>\n",
       "    <tr>\n",
       "      <th>A151</th>\n",
       "      <td>369</td>\n",
       "      <td>238</td>\n",
       "    </tr>\n",
       "    <tr>\n",
       "      <th>A152</th>\n",
       "      <td>1868</td>\n",
       "      <td>659</td>\n",
       "    </tr>\n",
       "    <tr>\n",
       "      <th>A153</th>\n",
       "      <td>222</td>\n",
       "      <td>140</td>\n",
       "    </tr>\n",
       "  </tbody>\n",
       "</table>\n",
       "</div>"
      ],
      "text/plain": [
       "Default_On_Payment     0    1\n",
       "Housing                      \n",
       "A151                 369  238\n",
       "A152                1868  659\n",
       "A153                 222  140"
      ]
     },
     "execution_count": 36,
     "metadata": {},
     "output_type": "execute_result"
    }
   ],
   "source": [
    "#Housing\n",
    "pd.crosstab(data.Housing,data.Default_On_Payment)\n"
   ]
  },
  {
   "cell_type": "code",
   "execution_count": 37,
   "metadata": {},
   "outputs": [
    {
     "name": "stdout",
     "output_type": "stream",
     "text": [
      "count     3496\n",
      "unique       3\n",
      "top       A152\n",
      "freq      2527\n",
      "Name: Housing, dtype: object\n"
     ]
    }
   ],
   "source": [
    "\n",
    "print(df.Housing.describe())"
   ]
  },
  {
   "cell_type": "code",
   "execution_count": 38,
   "metadata": {},
   "outputs": [
    {
     "name": "stdout",
     "output_type": "stream",
     "text": [
      "['A152' 'A151' 'A153' nan]\n"
     ]
    }
   ],
   "source": [
    "print(df.Housing.unique())\n",
    "\n"
   ]
  },
  {
   "cell_type": "code",
   "execution_count": 39,
   "metadata": {},
   "outputs": [
    {
     "name": "stdout",
     "output_type": "stream",
     "text": [
      "A152    2527\n",
      "A151     607\n",
      "A153     362\n",
      "Name: Housing, dtype: int64\n"
     ]
    }
   ],
   "source": [
    "print(df.Housing.value_counts())"
   ]
  },
  {
   "cell_type": "code",
   "execution_count": 40,
   "metadata": {},
   "outputs": [
    {
     "data": {
      "image/png": "[encoded data removed]",
      "text/plain": [
       "<Figure size 432x288 with 1 Axes>"
      ]
     },
     "metadata": {
      "needs_background": "light"
     },
     "output_type": "display_data"
    },
    {
     "data": {
      "text/plain": [
       "<Figure size 432x288 with 0 Axes>"
      ]
     },
     "metadata": {},
     "output_type": "display_data"
    }
   ],
   "source": [
    "sns.countplot(x='Housing',data=df, palette='hls')\n",
    "plt.show()\n",
    "plt.savefig('count_plot')\n"
   ]
  },
  {
   "cell_type": "code",
   "execution_count": 41,
   "metadata": {},
   "outputs": [
    {
     "name": "stdout",
     "output_type": "stream",
     "text": [
      "4\n"
     ]
    }
   ],
   "source": [
    "print(df.Housing.isnull().sum())"
   ]
  },
  {
   "cell_type": "code",
   "execution_count": 42,
   "metadata": {},
   "outputs": [
    {
     "data": {
      "image/png": "[encoded data removed]",
      "text/plain": [
       "<Figure size 432x288 with 1 Axes>"
      ]
     },
     "metadata": {
      "needs_background": "light"
     },
     "output_type": "display_data"
    },
    {
     "data": {
      "text/plain": [
       "<Figure size 432x288 with 0 Axes>"
      ]
     },
     "metadata": {},
     "output_type": "display_data"
    }
   ],
   "source": [
    "sns.countplot(x='Housing',data=df, palette='hls')\n",
    "plt.show()\n",
    "plt.savefig('count_plot')\n"
   ]
  },
  {
   "cell_type": "code",
   "execution_count": 43,
   "metadata": {},
   "outputs": [
    {
     "name": "stdout",
     "output_type": "stream",
     "text": [
      "4\n"
     ]
    }
   ],
   "source": [
    "print(df.Housing.isnull().sum())"
   ]
  },
  {
   "cell_type": "code",
   "execution_count": 44,
   "metadata": {},
   "outputs": [
    {
     "data": {
      "text/html": [
       "<div>\n",
       "<style scoped>\n",
       "    .dataframe tbody tr th:only-of-type {\n",
       "        vertical-align: middle;\n",
       "    }\n",
       "\n",
       "    .dataframe tbody tr th {\n",
       "        vertical-align: top;\n",
       "    }\n",
       "\n",
       "    .dataframe thead th {\n",
       "        text-align: right;\n",
       "    }\n",
       "</style>\n",
       "<table border=\"1\" class=\"dataframe\">\n",
       "  <thead>\n",
       "    <tr style=\"text-align: right;\">\n",
       "      <th>Default_On_Payment</th>\n",
       "      <th>0</th>\n",
       "      <th>1</th>\n",
       "    </tr>\n",
       "    <tr>\n",
       "      <th>Housing</th>\n",
       "      <th></th>\n",
       "      <th></th>\n",
       "    </tr>\n",
       "  </thead>\n",
       "  <tbody>\n",
       "    <tr>\n",
       "      <th>False</th>\n",
       "      <td>2459</td>\n",
       "      <td>1037</td>\n",
       "    </tr>\n",
       "    <tr>\n",
       "      <th>True</th>\n",
       "      <td>3</td>\n",
       "      <td>1</td>\n",
       "    </tr>\n",
       "  </tbody>\n",
       "</table>\n",
       "</div>"
      ],
      "text/plain": [
       "Default_On_Payment     0     1\n",
       "Housing                       \n",
       "False               2459  1037\n",
       "True                   3     1"
      ]
     },
     "execution_count": 44,
     "metadata": {},
     "output_type": "execute_result"
    }
   ],
   "source": [
    "pd.crosstab(data.Housing.isnull(),data.Default_On_Payment)\n"
   ]
  },
  {
   "cell_type": "code",
   "execution_count": 45,
   "metadata": {},
   "outputs": [
    {
     "data": {
      "image/png": "[encoded data removed]",
      "text/plain": [
       "<Figure size 432x288 with 1 Axes>"
      ]
     },
     "metadata": {
      "needs_background": "light"
     },
     "output_type": "display_data"
    }
   ],
   "source": [
    "pd.crosstab(data.Housing,data.Default_On_Payment).plot(kind='bar')\n",
    "plt.title('Frequency of Defaulter')\n",
    "plt.xlabel('Housing')\n",
    "plt.ylabel('Frequency of Defaults')\n",
    "plt.savefig('dflt_fre_job')\n",
    "plt.show()\n"
   ]
  },
  {
   "cell_type": "code",
   "execution_count": 46,
   "metadata": {},
   "outputs": [
    {
     "data": {
      "text/plain": [
       "4"
      ]
     },
     "execution_count": 46,
     "metadata": {},
     "output_type": "execute_result"
    }
   ],
   "source": [
    "df.Housing.isnull().sum()"
   ]
  },
  {
   "cell_type": "code",
   "execution_count": 47,
   "metadata": {},
   "outputs": [],
   "source": [
    "#df['Housing'].mode()"
   ]
  },
  {
   "cell_type": "code",
   "execution_count": 48,
   "metadata": {},
   "outputs": [
    {
     "data": {
      "text/plain": [
       "'A152'"
      ]
     },
     "execution_count": 48,
     "metadata": {},
     "output_type": "execute_result"
    }
   ],
   "source": [
    "df['Housing'].mode()[0]\n"
   ]
  },
  {
   "cell_type": "code",
   "execution_count": 49,
   "metadata": {},
   "outputs": [
    {
     "data": {
      "text/plain": [
       "2527"
      ]
     },
     "execution_count": 49,
     "metadata": {},
     "output_type": "execute_result"
    }
   ],
   "source": [
    "df.Housing[df.Housing=='A152'].count()\n"
   ]
  },
  {
   "cell_type": "code",
   "execution_count": 51,
   "metadata": {},
   "outputs": [
    {
     "data": {
      "text/plain": [
       "2531"
      ]
     },
     "execution_count": 51,
     "metadata": {},
     "output_type": "execute_result"
    }
   ],
   "source": [
    "df['Housing'].fillna(df['Housing'].mode()[0],inplace = True)\n",
    "df.Housing[df.Housing=='A152'].count()\n"
   ]
  },
  {
   "cell_type": "code",
   "execution_count": 53,
   "metadata": {},
   "outputs": [
    {
     "data": {
      "text/plain": [
       "0"
      ]
     },
     "execution_count": 53,
     "metadata": {},
     "output_type": "execute_result"
    }
   ],
   "source": [
    "df.Housing.isnull().sum()\n"
   ]
  },
  {
   "cell_type": "code",
   "execution_count": 54,
   "metadata": {},
   "outputs": [
    {
     "name": "stdout",
     "output_type": "stream",
     "text": [
      "1    2973\n",
      "2     527\n",
      "Name: Num_Dependents, dtype: int64\n"
     ]
    }
   ],
   "source": [
    "#*** Num of Dependents\n",
    "\n",
    "print(df.Num_Dependents.value_counts())\n"
   ]
  },
  {
   "cell_type": "code",
   "execution_count": 55,
   "metadata": {},
   "outputs": [
    {
     "data": {
      "image/png": "[encoded data removed]",
      "text/plain": [
       "<Figure size 432x288 with 1 Axes>"
      ]
     },
     "metadata": {
      "needs_background": "light"
     },
     "output_type": "display_data"
    },
    {
     "data": {
      "text/plain": [
       "<Figure size 432x288 with 0 Axes>"
      ]
     },
     "metadata": {},
     "output_type": "display_data"
    }
   ],
   "source": [
    "sns.countplot(x='Num_Dependents',data=df, palette='hls')\n",
    "plt.show()\n",
    "plt.savefig('count_plot')\n"
   ]
  },
  {
   "cell_type": "code",
   "execution_count": 56,
   "metadata": {},
   "outputs": [
    {
     "data": {
      "text/plain": [
       "Text(0.5, 1.0, ' Frequency of Defaulters')"
      ]
     },
     "execution_count": 56,
     "metadata": {},
     "output_type": "execute_result"
    },
    {
     "data": {
      "image/png": "[encoded data removed]",
      "text/plain": [
       "<Figure size 432x288 with 1 Axes>"
      ]
     },
     "metadata": {
      "needs_background": "light"
     },
     "output_type": "display_data"
    }
   ],
   "source": [
    "# Bivariate Anls\n",
    "pd.crosstab(data.Num_Dependents,data.Default_On_Payment).plot(kind='bar')\n",
    "plt.title(' Frequency of Defaulters')\n"
   ]
  },
  {
   "cell_type": "code",
   "execution_count": 58,
   "metadata": {},
   "outputs": [
    {
     "data": {
      "image/png": "[encoded data removed]",
      "text/plain": [
       "<Figure size 432x288 with 1 Axes>"
      ]
     },
     "metadata": {
      "needs_background": "light"
     },
     "output_type": "display_data"
    }
   ],
   "source": [
    "plt.xlabel('Num_Dependents')\n",
    "plt.ylabel('Frequency of Defaults')\n",
    "plt.savefig('dflt_fre_job')\n",
    "plt.show()"
   ]
  },
  {
   "cell_type": "code",
   "execution_count": 62,
   "metadata": {},
   "outputs": [],
   "source": [
    "def get_Percent(col,df):\n",
    "    df2=pd.DataFrame()\n",
    "    grps=df.groupby([col, 'Default_On_Payment'])\n",
    "    df2=pd.DataFrame()\n",
    "    for name,group in grps:\n",
    "        df2.loc[name[0],name[1]] = len(group)\n",
    "        df2['Percentage 0'] = df2[0]*100 / df2[0] \n",
    "        #df2['Percentage 1'] = df2[1]*100 / df2[0] \n",
    "    \n",
    "        print(df2.sort_values(by='Percentage 0'))\n",
    "\n",
    "cols = ['Num_Dependents']\n"
   ]
  },
  {
   "cell_type": "code",
   "execution_count": 63,
   "metadata": {
    "scrolled": true
   },
   "outputs": [
    {
     "name": "stdout",
     "output_type": "stream",
     "text": [
      "        0  Percentage 0\n",
      "1  2960.0         100.0\n",
      "        0  Percentage 0       1\n",
      "1  2960.0         100.0  1265.0\n",
      "        0  Percentage 0       1\n",
      "1  2960.0         100.0  1265.0\n",
      "2   545.0         100.0     NaN\n",
      "        0  Percentage 0       1\n",
      "1  2960.0         100.0  1265.0\n",
      "2   545.0         100.0   230.0\n"
     ]
    }
   ],
   "source": [
    "for col in cols:\n",
    "    get_Percent(col,df_base)"
   ]
  },
  {
   "cell_type": "code",
   "execution_count": 64,
   "metadata": {},
   "outputs": [
    {
     "data": {
      "text/plain": [
       "(3500, 17)"
      ]
     },
     "execution_count": 64,
     "metadata": {},
     "output_type": "execute_result"
    }
   ],
   "source": [
    "df.shape\n"
   ]
  },
  {
   "cell_type": "code",
   "execution_count": 65,
   "metadata": {},
   "outputs": [],
   "source": [
    "df = df.drop(['Customer_ID','Num_Dependents'],axis=1)"
   ]
  },
  {
   "cell_type": "code",
   "execution_count": 66,
   "metadata": {},
   "outputs": [
    {
     "data": {
      "text/plain": [
       "(3500, 15)"
      ]
     },
     "execution_count": 66,
     "metadata": {},
     "output_type": "execute_result"
    }
   ],
   "source": [
    "df.shape"
   ]
  },
  {
   "cell_type": "code",
   "execution_count": 67,
   "metadata": {},
   "outputs": [
    {
     "name": "stdout",
     "output_type": "stream",
     "text": [
      "A173    2174\n",
      "A172     699\n",
      "A174     544\n",
      "A171      74\n",
      "Name: Job_Status, dtype: int64\n"
     ]
    }
   ],
   "source": [
    "#*** Job Status\n",
    "\n",
    "\n",
    "df['Job_Status'].unique()\n",
    "df['Job_Status'].describe()\n",
    "df['Job_Status'].isnull().sum()\n",
    "print(df.Job_Status.value_counts())\n",
    "\n"
   ]
  },
  {
   "cell_type": "code",
   "execution_count": 68,
   "metadata": {},
   "outputs": [
    {
     "data": {
      "image/png": "[encoded data removed]",
      "text/plain": [
       "<Figure size 432x288 with 1 Axes>"
      ]
     },
     "metadata": {
      "needs_background": "light"
     },
     "output_type": "display_data"
    },
    {
     "data": {
      "text/plain": [
       "<Figure size 432x288 with 0 Axes>"
      ]
     },
     "metadata": {},
     "output_type": "display_data"
    }
   ],
   "source": [
    "sns.countplot(x='Job_Status',data=df, palette='hls')\n",
    "plt.show()\n",
    "plt.savefig('count_plot')"
   ]
  },
  {
   "cell_type": "code",
   "execution_count": 69,
   "metadata": {},
   "outputs": [
    {
     "data": {
      "text/plain": [
       "0    A173\n",
       "dtype: object"
      ]
     },
     "execution_count": 69,
     "metadata": {},
     "output_type": "execute_result"
    }
   ],
   "source": [
    "df['Job_Status'].mode()"
   ]
  },
  {
   "cell_type": "code",
   "execution_count": 70,
   "metadata": {},
   "outputs": [
    {
     "data": {
      "text/html": [
       "<div>\n",
       "<style scoped>\n",
       "    .dataframe tbody tr th:only-of-type {\n",
       "        vertical-align: middle;\n",
       "    }\n",
       "\n",
       "    .dataframe tbody tr th {\n",
       "        vertical-align: top;\n",
       "    }\n",
       "\n",
       "    .dataframe thead th {\n",
       "        text-align: right;\n",
       "    }\n",
       "</style>\n",
       "<table border=\"1\" class=\"dataframe\">\n",
       "  <thead>\n",
       "    <tr style=\"text-align: right;\">\n",
       "      <th>Default_On_Payment</th>\n",
       "      <th>0</th>\n",
       "      <th>1</th>\n",
       "    </tr>\n",
       "    <tr>\n",
       "      <th>Job_Status</th>\n",
       "      <th></th>\n",
       "      <th></th>\n",
       "    </tr>\n",
       "  </thead>\n",
       "  <tbody>\n",
       "    <tr>\n",
       "      <th>A171</th>\n",
       "      <td>50</td>\n",
       "      <td>24</td>\n",
       "    </tr>\n",
       "    <tr>\n",
       "      <th>A172</th>\n",
       "      <td>501</td>\n",
       "      <td>198</td>\n",
       "    </tr>\n",
       "    <tr>\n",
       "      <th>A173</th>\n",
       "      <td>1543</td>\n",
       "      <td>631</td>\n",
       "    </tr>\n",
       "    <tr>\n",
       "      <th>A174</th>\n",
       "      <td>363</td>\n",
       "      <td>181</td>\n",
       "    </tr>\n",
       "  </tbody>\n",
       "</table>\n",
       "</div>"
      ],
      "text/plain": [
       "Default_On_Payment     0    1\n",
       "Job_Status                   \n",
       "A171                  50   24\n",
       "A172                 501  198\n",
       "A173                1543  631\n",
       "A174                 363  181"
      ]
     },
     "execution_count": 70,
     "metadata": {},
     "output_type": "execute_result"
    }
   ],
   "source": [
    "pd.crosstab(data.Job_Status,data.Default_On_Payment)"
   ]
  },
  {
   "cell_type": "code",
   "execution_count": 71,
   "metadata": {},
   "outputs": [
    {
     "data": {
      "image/png": "[encoded data removed]",
      "text/plain": [
       "<Figure size 432x288 with 1 Axes>"
      ]
     },
     "metadata": {
      "needs_background": "light"
     },
     "output_type": "display_data"
    }
   ],
   "source": [
    "# bivarate ansis\n",
    "\n",
    "pd.crosstab(data.Job_Status,data.Default_On_Payment).plot(kind='bar')\n",
    "plt.title(' Frequency of Defaulters')\n",
    "plt.xlabel('Job_Status')\n",
    "plt.ylabel('Frequency of Defaults')\n",
    "plt.savefig('dflt_fre_job')\n",
    "plt.show()"
   ]
  },
  {
   "cell_type": "code",
   "execution_count": 73,
   "metadata": {},
   "outputs": [
    {
     "name": "stdout",
     "output_type": "stream",
     "text": [
      "         0  Percentage 0\n",
      "A171  74.0         100.0\n",
      "         0  Percentage 0     1\n",
      "A171  74.0         100.0  35.0\n",
      "          0  Percentage 0     1\n",
      "A171   74.0         100.0  35.0\n",
      "A172  719.0         100.0   NaN\n",
      "          0  Percentage 0      1\n",
      "A171   74.0         100.0   35.0\n",
      "A172  719.0         100.0  278.0\n",
      "           0  Percentage 0      1\n",
      "A171    74.0         100.0   35.0\n",
      "A172   719.0         100.0  278.0\n",
      "A173  2220.0         100.0    NaN\n",
      "           0  Percentage 0      1\n",
      "A171    74.0         100.0   35.0\n",
      "A172   719.0         100.0  278.0\n",
      "A173  2220.0         100.0  924.0\n",
      "           0  Percentage 0      1\n",
      "A171    74.0         100.0   35.0\n",
      "A172   719.0         100.0  278.0\n",
      "A173  2220.0         100.0  924.0\n",
      "A174   484.0         100.0    NaN\n",
      "           0  Percentage 0      1\n",
      "A171    74.0         100.0   35.0\n",
      "A172   719.0         100.0  278.0\n",
      "A173  2220.0         100.0  924.0\n",
      "A174   484.0         100.0  254.0\n"
     ]
    }
   ],
   "source": [
    "cols = ['Job_Status']\n",
    "for col in cols:\n",
    " get_Percent(col,df_base)\n",
    " "
   ]
  },
  {
   "cell_type": "code",
   "execution_count": 74,
   "metadata": {},
   "outputs": [
    {
     "data": {
      "text/plain": [
       "544"
      ]
     },
     "execution_count": 74,
     "metadata": {},
     "output_type": "execute_result"
    }
   ],
   "source": [
    "df.Job_Status[df.Job_Status=='A174'].count() "
   ]
  },
  {
   "cell_type": "code",
   "execution_count": 77,
   "metadata": {},
   "outputs": [
    {
     "data": {
      "text/plain": [
       "0"
      ]
     },
     "execution_count": 77,
     "metadata": {},
     "output_type": "execute_result"
    }
   ],
   "source": [
    "#df['Job_Status'].fillna(df['Job_Status'].mode()[0],inplace = True)\n",
    "df.Job_Status.isnull().sum()\n"
   ]
  },
  {
   "cell_type": "code",
   "execution_count": 78,
   "metadata": {},
   "outputs": [],
   "source": [
    "df['Job_Status'].fillna('A174',inplace = True)\n"
   ]
  },
  {
   "cell_type": "code",
   "execution_count": 79,
   "metadata": {},
   "outputs": [
    {
     "data": {
      "text/plain": [
       "0"
      ]
     },
     "execution_count": 79,
     "metadata": {},
     "output_type": "execute_result"
    }
   ],
   "source": [
    "df.Job_Status.isnull().sum()\n"
   ]
  },
  {
   "cell_type": "code",
   "execution_count": 80,
   "metadata": {},
   "outputs": [
    {
     "data": {
      "text/plain": [
       "553"
      ]
     },
     "execution_count": 80,
     "metadata": {},
     "output_type": "execute_result"
    }
   ],
   "source": [
    "df.Job_Status[df.Job_Status=='A174'].count()\n"
   ]
  },
  {
   "cell_type": "code",
   "execution_count": 81,
   "metadata": {},
   "outputs": [
    {
     "data": {
      "text/html": [
       "<div>\n",
       "<style scoped>\n",
       "    .dataframe tbody tr th:only-of-type {\n",
       "        vertical-align: middle;\n",
       "    }\n",
       "\n",
       "    .dataframe tbody tr th {\n",
       "        vertical-align: top;\n",
       "    }\n",
       "\n",
       "    .dataframe thead th {\n",
       "        text-align: right;\n",
       "    }\n",
       "</style>\n",
       "<table border=\"1\" class=\"dataframe\">\n",
       "  <thead>\n",
       "    <tr style=\"text-align: right;\">\n",
       "      <th></th>\n",
       "      <th>Credit_Amount</th>\n",
       "      <th>Purpose_Credit_Taken</th>\n",
       "      <th>Duration_in_Months</th>\n",
       "      <th>Status_Checking_Accnt</th>\n",
       "      <th>Credit_History</th>\n",
       "      <th>Job_Status</th>\n",
       "      <th>Years_At_Present_Employment</th>\n",
       "      <th>Marital_Status_Gender</th>\n",
       "      <th>Other_Debtors_Guarantors</th>\n",
       "      <th>Current_Address_Yrs</th>\n",
       "      <th>Age</th>\n",
       "      <th>Housing</th>\n",
       "      <th>Num_Credits</th>\n",
       "      <th>Foreign_Worker</th>\n",
       "      <th>Default_On_Payment</th>\n",
       "    </tr>\n",
       "  </thead>\n",
       "  <tbody>\n",
       "    <tr>\n",
       "      <th>2706</th>\n",
       "      <td>338</td>\n",
       "      <td>P43</td>\n",
       "      <td>6</td>\n",
       "      <td>S11</td>\n",
       "      <td>A34</td>\n",
       "      <td>A173</td>\n",
       "      <td>E75</td>\n",
       "      <td>A93</td>\n",
       "      <td>A101</td>\n",
       "      <td>4</td>\n",
       "      <td>52</td>\n",
       "      <td>A152</td>\n",
       "      <td>2</td>\n",
       "      <td>A201</td>\n",
       "      <td>0</td>\n",
       "    </tr>\n",
       "    <tr>\n",
       "      <th>2436</th>\n",
       "      <td>2625</td>\n",
       "      <td>P40</td>\n",
       "      <td>16</td>\n",
       "      <td>S11</td>\n",
       "      <td>A34</td>\n",
       "      <td>A173</td>\n",
       "      <td>E75</td>\n",
       "      <td>A93</td>\n",
       "      <td>A103</td>\n",
       "      <td>4</td>\n",
       "      <td>43</td>\n",
       "      <td>A151</td>\n",
       "      <td>1</td>\n",
       "      <td>A201</td>\n",
       "      <td>1</td>\n",
       "    </tr>\n",
       "    <tr>\n",
       "      <th>1201</th>\n",
       "      <td>6304</td>\n",
       "      <td>P49</td>\n",
       "      <td>36</td>\n",
       "      <td>S14</td>\n",
       "      <td>A34</td>\n",
       "      <td>A173</td>\n",
       "      <td>E75</td>\n",
       "      <td>A93</td>\n",
       "      <td>A101</td>\n",
       "      <td>4</td>\n",
       "      <td>36</td>\n",
       "      <td>A152</td>\n",
       "      <td>2</td>\n",
       "      <td>A201</td>\n",
       "      <td>0</td>\n",
       "    </tr>\n",
       "    <tr>\n",
       "      <th>1486</th>\n",
       "      <td>2957</td>\n",
       "      <td>P41</td>\n",
       "      <td>24</td>\n",
       "      <td>S11</td>\n",
       "      <td>A34</td>\n",
       "      <td>A173</td>\n",
       "      <td>E75</td>\n",
       "      <td>A93</td>\n",
       "      <td>A101</td>\n",
       "      <td>4</td>\n",
       "      <td>63</td>\n",
       "      <td>A152</td>\n",
       "      <td>2</td>\n",
       "      <td>A201</td>\n",
       "      <td>0</td>\n",
       "    </tr>\n",
       "    <tr>\n",
       "      <th>4286</th>\n",
       "      <td>590</td>\n",
       "      <td>P43</td>\n",
       "      <td>6</td>\n",
       "      <td>S12</td>\n",
       "      <td>A32</td>\n",
       "      <td>A172</td>\n",
       "      <td>E72</td>\n",
       "      <td>A94</td>\n",
       "      <td>A101</td>\n",
       "      <td>3</td>\n",
       "      <td>26</td>\n",
       "      <td>A152</td>\n",
       "      <td>1</td>\n",
       "      <td>A202</td>\n",
       "      <td>0</td>\n",
       "    </tr>\n",
       "  </tbody>\n",
       "</table>\n",
       "</div>"
      ],
      "text/plain": [
       "      Credit_Amount Purpose_Credit_Taken  Duration_in_Months  \\\n",
       "2706            338                  P43                   6   \n",
       "2436           2625                  P40                  16   \n",
       "1201           6304                  P49                  36   \n",
       "1486           2957                  P41                  24   \n",
       "4286            590                  P43                   6   \n",
       "\n",
       "     Status_Checking_Accnt Credit_History Job_Status  \\\n",
       "2706                   S11            A34       A173   \n",
       "2436                   S11            A34       A173   \n",
       "1201                   S14            A34       A173   \n",
       "1486                   S11            A34       A173   \n",
       "4286                   S12            A32       A172   \n",
       "\n",
       "     Years_At_Present_Employment Marital_Status_Gender  \\\n",
       "2706                         E75                   A93   \n",
       "2436                         E75                   A93   \n",
       "1201                         E75                   A93   \n",
       "1486                         E75                   A93   \n",
       "4286                         E72                   A94   \n",
       "\n",
       "     Other_Debtors_Guarantors  Current_Address_Yrs  Age Housing  Num_Credits  \\\n",
       "2706                     A101                    4   52    A152            2   \n",
       "2436                     A103                    4   43    A151            1   \n",
       "1201                     A101                    4   36    A152            2   \n",
       "1486                     A101                    4   63    A152            2   \n",
       "4286                     A101                    3   26    A152            1   \n",
       "\n",
       "     Foreign_Worker  Default_On_Payment  \n",
       "2706           A201                   0  \n",
       "2436           A201                   1  \n",
       "1201           A201                   0  \n",
       "1486           A201                   0  \n",
       "4286           A202                   0  "
      ]
     },
     "execution_count": 81,
     "metadata": {},
     "output_type": "execute_result"
    }
   ],
   "source": [
    "df.head()"
   ]
  },
  {
   "cell_type": "code",
   "execution_count": 82,
   "metadata": {},
   "outputs": [
    {
     "data": {
      "text/plain": [
       "array(['A173', 'A172', 'A174', 'A171'], dtype=object)"
      ]
     },
     "execution_count": 82,
     "metadata": {},
     "output_type": "execute_result"
    }
   ],
   "source": [
    "#adv missing technique\n",
    "df.Job_Status.unique()"
   ]
  },
  {
   "cell_type": "code",
   "execution_count": 83,
   "metadata": {},
   "outputs": [
    {
     "name": "stdout",
     "output_type": "stream",
     "text": [
      "(3500, 17)\n"
     ]
    }
   ],
   "source": [
    "#dummy vars for job_status\n",
    "print(model_data.shape)"
   ]
  },
  {
   "cell_type": "code",
   "execution_count": 84,
   "metadata": {},
   "outputs": [
    {
     "name": "stdout",
     "output_type": "stream",
     "text": [
      "(3500, 17)\n"
     ]
    }
   ],
   "source": [
    "print(model_data.shape)\n",
    "#print(model_data-head())\n",
    "f1 = model_data['Job_Status']=='A171'\n",
    "f2 = model_data['Job_Status']=='A172'\n",
    "f3 = model_data['Job_Status']=='A173'"
   ]
  },
  {
   "cell_type": "code",
   "execution_count": 85,
   "metadata": {},
   "outputs": [
    {
     "name": "stdout",
     "output_type": "stream",
     "text": [
      "(3500, 17)\n"
     ]
    }
   ],
   "source": [
    "print(model_data.shape)"
   ]
  },
  {
   "cell_type": "code",
   "execution_count": 86,
   "metadata": {},
   "outputs": [],
   "source": [
    "model_data['Dummy_A171'] = np.where(f1, 1, 0)\n"
   ]
  },
  {
   "cell_type": "code",
   "execution_count": 87,
   "metadata": {},
   "outputs": [
    {
     "name": "stdout",
     "output_type": "stream",
     "text": [
      "(3500, 18)\n"
     ]
    }
   ],
   "source": [
    "print(model_data.shape)"
   ]
  },
  {
   "cell_type": "code",
   "execution_count": 88,
   "metadata": {},
   "outputs": [],
   "source": [
    "model_data['Dummy_A172'] = np.where(f2, 1, 0)\n",
    "model_data['Dummy_A173'] = np.where(f3, 1, 0)"
   ]
  },
  {
   "cell_type": "code",
   "execution_count": 89,
   "metadata": {},
   "outputs": [
    {
     "name": "stdout",
     "output_type": "stream",
     "text": [
      "(3500, 20)\n"
     ]
    }
   ],
   "source": [
    "print(model_data.shape)"
   ]
  },
  {
   "cell_type": "code",
   "execution_count": 90,
   "metadata": {},
   "outputs": [],
   "source": [
    "model_data = model_data.drop(['Job_Status'],axis=1)\n"
   ]
  },
  {
   "cell_type": "code",
   "execution_count": 91,
   "metadata": {},
   "outputs": [
    {
     "name": "stdout",
     "output_type": "stream",
     "text": [
      "         0  Percentage 0\n",
      "P40  725.0         100.0\n",
      "         0  Percentage 0      1\n",
      "P40  725.0         100.0  445.0\n",
      "         0  Percentage 0      1\n",
      "P40  725.0         100.0  445.0\n",
      "P41  430.0         100.0    NaN\n",
      "         0  Percentage 0      1\n",
      "P40  725.0         100.0  445.0\n",
      "P41  430.0         100.0   85.0\n",
      "         0  Percentage 0      1\n",
      "P40  725.0         100.0  445.0\n",
      "P41  430.0         100.0   85.0\n",
      "P42  615.0         100.0    NaN\n",
      "         0  Percentage 0      1\n",
      "P40  725.0         100.0  445.0\n",
      "P41  430.0         100.0   85.0\n",
      "P42  615.0         100.0  290.0\n",
      "          0  Percentage 0      1\n",
      "P40   725.0         100.0  445.0\n",
      "P41   430.0         100.0   85.0\n",
      "P42   615.0         100.0  290.0\n",
      "P43  1095.0         100.0    NaN\n",
      "          0  Percentage 0      1\n",
      "P40   725.0         100.0  445.0\n",
      "P41   430.0         100.0   85.0\n",
      "P42   615.0         100.0  290.0\n",
      "P43  1095.0         100.0  305.0\n",
      "          0  Percentage 0      1\n",
      "P40   725.0         100.0  445.0\n",
      "P41   430.0         100.0   85.0\n",
      "P42   615.0         100.0  290.0\n",
      "P43  1095.0         100.0  305.0\n",
      "P44    40.0         100.0    NaN\n",
      "          0  Percentage 0      1\n",
      "P40   725.0         100.0  445.0\n",
      "P41   430.0         100.0   85.0\n",
      "P42   615.0         100.0  290.0\n",
      "P43  1095.0         100.0  305.0\n",
      "P44    40.0         100.0   20.0\n",
      "          0  Percentage 0      1\n",
      "P40   725.0         100.0  445.0\n",
      "P41   430.0         100.0   85.0\n",
      "P42   615.0         100.0  290.0\n",
      "P43  1095.0         100.0  305.0\n",
      "P44    40.0         100.0   20.0\n",
      "P45    70.0         100.0    NaN\n",
      "          0  Percentage 0      1\n",
      "P40   725.0         100.0  445.0\n",
      "P41   430.0         100.0   85.0\n",
      "P42   615.0         100.0  290.0\n",
      "P43  1095.0         100.0  305.0\n",
      "P44    40.0         100.0   20.0\n",
      "P45    70.0         100.0   40.0\n",
      "          0  Percentage 0      1\n",
      "P40   725.0         100.0  445.0\n",
      "P41   430.0         100.0   85.0\n",
      "P42   615.0         100.0  290.0\n",
      "P43  1095.0         100.0  305.0\n",
      "P44    40.0         100.0   20.0\n",
      "P45    70.0         100.0   40.0\n",
      "P46   140.0         100.0    NaN\n",
      "          0  Percentage 0      1\n",
      "P40   725.0         100.0  445.0\n",
      "P41   430.0         100.0   85.0\n",
      "P42   615.0         100.0  290.0\n",
      "P43  1095.0         100.0  305.0\n",
      "P44    40.0         100.0   20.0\n",
      "P45    70.0         100.0   40.0\n",
      "P46   140.0         100.0  110.0\n",
      "          0  Percentage 0      1\n",
      "P40   725.0         100.0  445.0\n",
      "P41   430.0         100.0   85.0\n",
      "P42   615.0         100.0  290.0\n",
      "P43  1095.0         100.0  305.0\n",
      "P44    40.0         100.0   20.0\n",
      "P45    70.0         100.0   40.0\n",
      "P46   140.0         100.0  110.0\n",
      "P48    40.0         100.0    NaN\n",
      "          0  Percentage 0      1\n",
      "P40   725.0         100.0  445.0\n",
      "P41   430.0         100.0   85.0\n",
      "P42   615.0         100.0  290.0\n",
      "P43  1095.0         100.0  305.0\n",
      "P44    40.0         100.0   20.0\n",
      "P45    70.0         100.0   40.0\n",
      "P46   140.0         100.0  110.0\n",
      "P48    40.0         100.0    5.0\n",
      "          0  Percentage 0      1\n",
      "P40   725.0         100.0  445.0\n",
      "P41   430.0         100.0   85.0\n",
      "P42   615.0         100.0  290.0\n",
      "P43  1095.0         100.0  305.0\n",
      "P44    40.0         100.0   20.0\n",
      "P45    70.0         100.0   40.0\n",
      "P46   140.0         100.0  110.0\n",
      "P48    40.0         100.0    5.0\n",
      "P49   315.0         100.0    NaN\n",
      "          0  Percentage 0      1\n",
      "P40   725.0         100.0  445.0\n",
      "P41   430.0         100.0   85.0\n",
      "P42   615.0         100.0  290.0\n",
      "P43  1095.0         100.0  305.0\n",
      "P44    40.0         100.0   20.0\n",
      "P45    70.0         100.0   40.0\n",
      "P46   140.0         100.0  110.0\n",
      "P48    40.0         100.0    5.0\n",
      "P49   315.0         100.0  170.0\n",
      "          0  Percentage 0      1\n",
      "P40   725.0         100.0  445.0\n",
      "P41   430.0         100.0   85.0\n",
      "P42   615.0         100.0  290.0\n",
      "P43  1095.0         100.0  305.0\n",
      "P44    40.0         100.0   20.0\n",
      "P45    70.0         100.0   40.0\n",
      "P46   140.0         100.0  110.0\n",
      "P48    40.0         100.0    5.0\n",
      "P49   315.0         100.0  170.0\n",
      "P50    35.0         100.0    NaN\n",
      "          0  Percentage 0      1\n",
      "P40   725.0         100.0  445.0\n",
      "P41   430.0         100.0   85.0\n",
      "P42   615.0         100.0  290.0\n",
      "P43  1095.0         100.0  305.0\n",
      "P44    40.0         100.0   20.0\n",
      "P45    70.0         100.0   40.0\n",
      "P46   140.0         100.0  110.0\n",
      "P48    40.0         100.0    5.0\n",
      "P49   315.0         100.0  170.0\n",
      "P50    35.0         100.0   25.0\n"
     ]
    }
   ],
   "source": [
    "model_data.shape\n",
    "cols = ['Purpose_Credit_Taken']\n",
    "for col in cols:\n",
    " get_Percent(col,df_base)"
   ]
  },
  {
   "cell_type": "code",
   "execution_count": 92,
   "metadata": {},
   "outputs": [],
   "source": [
    "cols = ['Purpose_Credit_Taken','Status_Checking_Accnt','Credit_History',\n",
    "'Job_Status','Years_At_Present_Em ployment','Marital_Status_Gender',\n",
    "'Other_Debtors_Guarantors','Housing','Foreign_Worker']"
   ]
  },
  {
   "cell_type": "code",
   "execution_count": 93,
   "metadata": {},
   "outputs": [
    {
     "name": "stdout",
     "output_type": "stream",
     "text": [
      "P43    989\n",
      "P40    814\n",
      "P42    633\n",
      "P41    368\n",
      "P49    340\n",
      "P46    167\n",
      "P45     72\n",
      "P50     45\n",
      "P44     43\n",
      "P48     29\n",
      "Name: Purpose_Credit_Taken, dtype: int64 \n",
      "\n"
     ]
    }
   ],
   "source": [
    "print(df['Purpose_Credit_Taken'].value_counts(),'\\n')\n"
   ]
  },
  {
   "cell_type": "code",
   "execution_count": 94,
   "metadata": {},
   "outputs": [
    {
     "name": "stdout",
     "output_type": "stream",
     "text": [
      "S14    1360\n",
      "S12     964\n",
      "S11     948\n",
      "S13     228\n",
      "Name: Status_Checking_Accnt, dtype: int64 \n",
      "\n"
     ]
    }
   ],
   "source": [
    "print(df['Status_Checking_Accnt'].value_counts(),'\\n')\n"
   ]
  },
  {
   "cell_type": "code",
   "execution_count": 95,
   "metadata": {},
   "outputs": [
    {
     "name": "stdout",
     "output_type": "stream",
     "text": [
      "A201    3377\n",
      "A202     123\n",
      "Name: Foreign_Worker, dtype: int64 \n",
      "\n"
     ]
    }
   ],
   "source": [
    "print(df['Foreign_Worker'].value_counts(),'\\n')\n"
   ]
  },
  {
   "cell_type": "code",
   "execution_count": 96,
   "metadata": {},
   "outputs": [
    {
     "name": "stdout",
     "output_type": "stream",
     "text": [
      "  Type Set\n",
      "0    A   Z\n",
      "1    B   Z\n",
      "2    B   X\n",
      "3    C   Y\n"
     ]
    }
   ],
   "source": [
    "df2 = pd.DataFrame({'Type':list('ABBC'), 'Set':list('ZZXY')})\n",
    "print(df2)"
   ]
  },
  {
   "cell_type": "code",
   "execution_count": 97,
   "metadata": {},
   "outputs": [
    {
     "data": {
      "text/html": [
       "<div>\n",
       "<style scoped>\n",
       "    .dataframe tbody tr th:only-of-type {\n",
       "        vertical-align: middle;\n",
       "    }\n",
       "\n",
       "    .dataframe tbody tr th {\n",
       "        vertical-align: top;\n",
       "    }\n",
       "\n",
       "    .dataframe thead th {\n",
       "        text-align: right;\n",
       "    }\n",
       "</style>\n",
       "<table border=\"1\" class=\"dataframe\">\n",
       "  <thead>\n",
       "    <tr style=\"text-align: right;\">\n",
       "      <th></th>\n",
       "      <th>Type</th>\n",
       "      <th>Set</th>\n",
       "      <th>color</th>\n",
       "    </tr>\n",
       "  </thead>\n",
       "  <tbody>\n",
       "    <tr>\n",
       "      <th>0</th>\n",
       "      <td>A</td>\n",
       "      <td>Z</td>\n",
       "      <td>green</td>\n",
       "    </tr>\n",
       "    <tr>\n",
       "      <th>1</th>\n",
       "      <td>B</td>\n",
       "      <td>Z</td>\n",
       "      <td>green</td>\n",
       "    </tr>\n",
       "    <tr>\n",
       "      <th>2</th>\n",
       "      <td>B</td>\n",
       "      <td>X</td>\n",
       "      <td>red</td>\n",
       "    </tr>\n",
       "    <tr>\n",
       "      <th>3</th>\n",
       "      <td>C</td>\n",
       "      <td>Y</td>\n",
       "      <td>red</td>\n",
       "    </tr>\n",
       "  </tbody>\n",
       "</table>\n",
       "</div>"
      ],
      "text/plain": [
       "  Type Set  color\n",
       "0    A   Z  green\n",
       "1    B   Z  green\n",
       "2    B   X    red\n",
       "3    C   Y    red"
      ]
     },
     "execution_count": 97,
     "metadata": {},
     "output_type": "execute_result"
    }
   ],
   "source": [
    "df2['color'] = np.where(df2['Set']=='Z', 'green', 'red')\n",
    "df2"
   ]
  },
  {
   "cell_type": "code",
   "execution_count": 98,
   "metadata": {},
   "outputs": [
    {
     "name": "stdout",
     "output_type": "stream",
     "text": [
      "  Type Set\n",
      "0    A   Z\n",
      "1    B   Z\n",
      "2    B   X\n",
      "3    C   Y\n",
      "4    D   W\n",
      "5    D   W\n"
     ]
    }
   ],
   "source": [
    "model_data2 = pd.DataFrame({'Type':list('ABBCDD'), 'Set':list('ZZXYWW')})\n",
    "print(model_data2)"
   ]
  },
  {
   "cell_type": "code",
   "execution_count": 99,
   "metadata": {},
   "outputs": [],
   "source": [
    "f1 = model_data2['Set']=='Z'\n",
    "f2 = model_data2['Set']=='Y'\n",
    "f3 = model_data2['Set']=='X'\n"
   ]
  },
  {
   "cell_type": "code",
   "execution_count": 100,
   "metadata": {},
   "outputs": [
    {
     "name": "stdout",
     "output_type": "stream",
     "text": [
      "  Type Set  color\n",
      "0    A   Z  green\n",
      "1    B   Z  green\n",
      "2    B   X  green\n",
      "3    C   Y  green\n",
      "4    D   W    red\n",
      "5    D   W    red\n"
     ]
    }
   ],
   "source": [
    "model_data2['color'] = np.where(np.logical_or(f1,np.logical_or(f2,f3)), 'green', 'red')\n",
    "print(model_data2)"
   ]
  },
  {
   "cell_type": "code",
   "execution_count": 101,
   "metadata": {},
   "outputs": [],
   "source": [
    "model_data2['color2'] = f1 | f2 | f3"
   ]
  },
  {
   "cell_type": "code",
   "execution_count": 102,
   "metadata": {},
   "outputs": [],
   "source": [
    " #np.where(np.logical_or(f1,np.logical_or(f2,f3)), 'green', 'red') print(model_data2)"
   ]
  },
  {
   "cell_type": "code",
   "execution_count": 103,
   "metadata": {},
   "outputs": [
    {
     "name": "stdout",
     "output_type": "stream",
     "text": [
      "(3500, 19)\n"
     ]
    }
   ],
   "source": [
    "model_data_bkp = model_data\n",
    "print(model_data.shape)"
   ]
  },
  {
   "cell_type": "code",
   "execution_count": 104,
   "metadata": {},
   "outputs": [],
   "source": [
    "f1 = model_data['Purpose_Credit_Taken']=='P41'\n",
    "f2 = model_data['Purpose_Credit_Taken']=='P43'\n",
    "f3 = model_data['Purpose_Credit_Taken']=='P48'"
   ]
  },
  {
   "cell_type": "code",
   "execution_count": 105,
   "metadata": {},
   "outputs": [
    {
     "name": "stdout",
     "output_type": "stream",
     "text": [
      "(3500, 19)\n"
     ]
    }
   ],
   "source": [
    "print(model_data.shape)"
   ]
  },
  {
   "cell_type": "code",
   "execution_count": 106,
   "metadata": {},
   "outputs": [],
   "source": [
    "model_data['Dummy_Purpose_Credit_Taken_Low'] = np.where( np.logical_or(f1,\n",
    "np.logical_or(f2,f3)), 1, 0)\n"
   ]
  },
  {
   "cell_type": "code",
   "execution_count": 107,
   "metadata": {},
   "outputs": [
    {
     "name": "stdout",
     "output_type": "stream",
     "text": [
      "(3500, 20)\n"
     ]
    }
   ],
   "source": [
    "print(model_data.shape)"
   ]
  },
  {
   "cell_type": "code",
   "execution_count": 108,
   "metadata": {},
   "outputs": [
    {
     "data": {
      "text/html": [
       "<div>\n",
       "<style scoped>\n",
       "    .dataframe tbody tr th:only-of-type {\n",
       "        vertical-align: middle;\n",
       "    }\n",
       "\n",
       "    .dataframe tbody tr th {\n",
       "        vertical-align: top;\n",
       "    }\n",
       "\n",
       "    .dataframe thead th {\n",
       "        text-align: right;\n",
       "    }\n",
       "</style>\n",
       "<table border=\"1\" class=\"dataframe\">\n",
       "  <thead>\n",
       "    <tr style=\"text-align: right;\">\n",
       "      <th></th>\n",
       "      <th>Purpose_Credit_Taken</th>\n",
       "      <th>Dummy_Purpose_Credit_Taken_Low</th>\n",
       "    </tr>\n",
       "  </thead>\n",
       "  <tbody>\n",
       "    <tr>\n",
       "      <th>2706</th>\n",
       "      <td>P43</td>\n",
       "      <td>1</td>\n",
       "    </tr>\n",
       "    <tr>\n",
       "      <th>2436</th>\n",
       "      <td>P40</td>\n",
       "      <td>0</td>\n",
       "    </tr>\n",
       "    <tr>\n",
       "      <th>1201</th>\n",
       "      <td>P49</td>\n",
       "      <td>0</td>\n",
       "    </tr>\n",
       "    <tr>\n",
       "      <th>1486</th>\n",
       "      <td>P41</td>\n",
       "      <td>1</td>\n",
       "    </tr>\n",
       "    <tr>\n",
       "      <th>4286</th>\n",
       "      <td>P43</td>\n",
       "      <td>1</td>\n",
       "    </tr>\n",
       "  </tbody>\n",
       "</table>\n",
       "</div>"
      ],
      "text/plain": [
       "     Purpose_Credit_Taken  Dummy_Purpose_Credit_Taken_Low\n",
       "2706                  P43                               1\n",
       "2436                  P40                               0\n",
       "1201                  P49                               0\n",
       "1486                  P41                               1\n",
       "4286                  P43                               1"
      ]
     },
     "execution_count": 108,
     "metadata": {},
     "output_type": "execute_result"
    }
   ],
   "source": [
    "data_sbst1 = model_data[['Purpose_Credit_Taken','Dummy_Purpose_Credit_Taken_Low']]\n",
    "data_sbst1.head()"
   ]
  },
  {
   "cell_type": "code",
   "execution_count": 109,
   "metadata": {},
   "outputs": [],
   "source": [
    "\n",
    "f1 = model_data['Purpose_Credit_Taken']=='P49'\n",
    "f2 = model_data['Purpose_Credit_Taken']=='P40'\n",
    "f3 = model_data['Purpose_Credit_Taken']=='P45'\n",
    "f4 = model_data['Purpose_Credit_Taken']=='P50'\n",
    "f5 = model_data['Purpose_Credit_Taken']=='P46' \n",
    "#f3 = model_data['Purpose_Credit_Taken']=='P48' print(model_data.shape)"
   ]
  },
  {
   "cell_type": "code",
   "execution_count": 110,
   "metadata": {},
   "outputs": [
    {
     "name": "stdout",
     "output_type": "stream",
     "text": [
      "(3500, 20)\n"
     ]
    }
   ],
   "source": [
    "print(model_data.shape)"
   ]
  },
  {
   "cell_type": "code",
   "execution_count": 111,
   "metadata": {},
   "outputs": [],
   "source": [
    "model_data['Dummy_Purpose_Credit_Taken_High'] = np.where( np.logical_or(f1,np.logical_or(f2, np.logical_or(f3, np.logical_or(f4,f5)))), 1, 0)\n"
   ]
  },
  {
   "cell_type": "code",
   "execution_count": 112,
   "metadata": {},
   "outputs": [
    {
     "name": "stdout",
     "output_type": "stream",
     "text": [
      "(3500, 21)\n"
     ]
    }
   ],
   "source": [
    "print(model_data.shape)"
   ]
  },
  {
   "cell_type": "code",
   "execution_count": 113,
   "metadata": {},
   "outputs": [
    {
     "data": {
      "text/html": [
       "<div>\n",
       "<style scoped>\n",
       "    .dataframe tbody tr th:only-of-type {\n",
       "        vertical-align: middle;\n",
       "    }\n",
       "\n",
       "    .dataframe tbody tr th {\n",
       "        vertical-align: top;\n",
       "    }\n",
       "\n",
       "    .dataframe thead th {\n",
       "        text-align: right;\n",
       "    }\n",
       "</style>\n",
       "<table border=\"1\" class=\"dataframe\">\n",
       "  <thead>\n",
       "    <tr style=\"text-align: right;\">\n",
       "      <th></th>\n",
       "      <th>Customer_ID</th>\n",
       "      <th>Credit_Amount</th>\n",
       "      <th>Purpose_Credit_Taken</th>\n",
       "      <th>Duration_in_Months</th>\n",
       "      <th>Status_Checking_Accnt</th>\n",
       "      <th>Credit_History</th>\n",
       "      <th>Years_At_Present_Employment</th>\n",
       "      <th>Marital_Status_Gender</th>\n",
       "      <th>Other_Debtors_Guarantors</th>\n",
       "      <th>Current_Address_Yrs</th>\n",
       "      <th>...</th>\n",
       "      <th>Housing</th>\n",
       "      <th>Num_Credits</th>\n",
       "      <th>Num_Dependents</th>\n",
       "      <th>Foreign_Worker</th>\n",
       "      <th>Default_On_Payment</th>\n",
       "      <th>Dummy_A171</th>\n",
       "      <th>Dummy_A172</th>\n",
       "      <th>Dummy_A173</th>\n",
       "      <th>Dummy_Purpose_Credit_Taken_Low</th>\n",
       "      <th>Dummy_Purpose_Credit_Taken_High</th>\n",
       "    </tr>\n",
       "  </thead>\n",
       "  <tbody>\n",
       "    <tr>\n",
       "      <th>3922</th>\n",
       "      <td>C18923</td>\n",
       "      <td>11938</td>\n",
       "      <td>P50</td>\n",
       "      <td>24</td>\n",
       "      <td>S12</td>\n",
       "      <td>A34</td>\n",
       "      <td>E73</td>\n",
       "      <td>A93</td>\n",
       "      <td>A102</td>\n",
       "      <td>3</td>\n",
       "      <td>...</td>\n",
       "      <td>A152</td>\n",
       "      <td>2</td>\n",
       "      <td>2</td>\n",
       "      <td>A201</td>\n",
       "      <td>1</td>\n",
       "      <td>0</td>\n",
       "      <td>0</td>\n",
       "      <td>0</td>\n",
       "      <td>0</td>\n",
       "      <td>1</td>\n",
       "    </tr>\n",
       "    <tr>\n",
       "      <th>1355</th>\n",
       "      <td>C16356</td>\n",
       "      <td>4712</td>\n",
       "      <td>P49</td>\n",
       "      <td>24</td>\n",
       "      <td>S12</td>\n",
       "      <td>A33</td>\n",
       "      <td>E73</td>\n",
       "      <td>A93</td>\n",
       "      <td>A101</td>\n",
       "      <td>2</td>\n",
       "      <td>...</td>\n",
       "      <td>A152</td>\n",
       "      <td>2</td>\n",
       "      <td>1</td>\n",
       "      <td>A201</td>\n",
       "      <td>0</td>\n",
       "      <td>0</td>\n",
       "      <td>0</td>\n",
       "      <td>0</td>\n",
       "      <td>0</td>\n",
       "      <td>1</td>\n",
       "    </tr>\n",
       "    <tr>\n",
       "      <th>3052</th>\n",
       "      <td>C18053</td>\n",
       "      <td>1965</td>\n",
       "      <td>P40</td>\n",
       "      <td>24</td>\n",
       "      <td>S12</td>\n",
       "      <td>A33</td>\n",
       "      <td>E73</td>\n",
       "      <td>A92</td>\n",
       "      <td>A101</td>\n",
       "      <td>4</td>\n",
       "      <td>...</td>\n",
       "      <td>A151</td>\n",
       "      <td>2</td>\n",
       "      <td>1</td>\n",
       "      <td>A201</td>\n",
       "      <td>0</td>\n",
       "      <td>0</td>\n",
       "      <td>0</td>\n",
       "      <td>1</td>\n",
       "      <td>0</td>\n",
       "      <td>1</td>\n",
       "    </tr>\n",
       "    <tr>\n",
       "      <th>4065</th>\n",
       "      <td>C19066</td>\n",
       "      <td>931</td>\n",
       "      <td>P40</td>\n",
       "      <td>6</td>\n",
       "      <td>S12</td>\n",
       "      <td>A31</td>\n",
       "      <td>E72</td>\n",
       "      <td>A92</td>\n",
       "      <td>A101</td>\n",
       "      <td>1</td>\n",
       "      <td>...</td>\n",
       "      <td>A152</td>\n",
       "      <td>1</td>\n",
       "      <td>1</td>\n",
       "      <td>A201</td>\n",
       "      <td>1</td>\n",
       "      <td>0</td>\n",
       "      <td>1</td>\n",
       "      <td>0</td>\n",
       "      <td>0</td>\n",
       "      <td>1</td>\n",
       "    </tr>\n",
       "    <tr>\n",
       "      <th>3396</th>\n",
       "      <td>C18397</td>\n",
       "      <td>1201</td>\n",
       "      <td>P40</td>\n",
       "      <td>24</td>\n",
       "      <td>S12</td>\n",
       "      <td>A32</td>\n",
       "      <td>E72</td>\n",
       "      <td>A93</td>\n",
       "      <td>A101</td>\n",
       "      <td>1</td>\n",
       "      <td>...</td>\n",
       "      <td>A152</td>\n",
       "      <td>1</td>\n",
       "      <td>1</td>\n",
       "      <td>A201</td>\n",
       "      <td>0</td>\n",
       "      <td>0</td>\n",
       "      <td>0</td>\n",
       "      <td>1</td>\n",
       "      <td>0</td>\n",
       "      <td>1</td>\n",
       "    </tr>\n",
       "  </tbody>\n",
       "</table>\n",
       "<p>5 rows × 21 columns</p>\n",
       "</div>"
      ],
      "text/plain": [
       "     Customer_ID  Credit_Amount Purpose_Credit_Taken  Duration_in_Months  \\\n",
       "3922      C18923          11938                  P50                  24   \n",
       "1355      C16356           4712                  P49                  24   \n",
       "3052      C18053           1965                  P40                  24   \n",
       "4065      C19066            931                  P40                   6   \n",
       "3396      C18397           1201                  P40                  24   \n",
       "\n",
       "     Status_Checking_Accnt Credit_History Years_At_Present_Employment  \\\n",
       "3922                   S12            A34                         E73   \n",
       "1355                   S12            A33                         E73   \n",
       "3052                   S12            A33                         E73   \n",
       "4065                   S12            A31                         E72   \n",
       "3396                   S12            A32                         E72   \n",
       "\n",
       "     Marital_Status_Gender Other_Debtors_Guarantors  Current_Address_Yrs  ...  \\\n",
       "3922                   A93                     A102                    3  ...   \n",
       "1355                   A93                     A101                    2  ...   \n",
       "3052                   A92                     A101                    4  ...   \n",
       "4065                   A92                     A101                    1  ...   \n",
       "3396                   A93                     A101                    1  ...   \n",
       "\n",
       "      Housing Num_Credits  Num_Dependents  Foreign_Worker Default_On_Payment  \\\n",
       "3922     A152           2               2            A201                  1   \n",
       "1355     A152           2               1            A201                  0   \n",
       "3052     A151           2               1            A201                  0   \n",
       "4065     A152           1               1            A201                  1   \n",
       "3396     A152           1               1            A201                  0   \n",
       "\n",
       "      Dummy_A171  Dummy_A172  Dummy_A173  Dummy_Purpose_Credit_Taken_Low  \\\n",
       "3922           0           0           0                               0   \n",
       "1355           0           0           0                               0   \n",
       "3052           0           0           1                               0   \n",
       "4065           0           1           0                               0   \n",
       "3396           0           0           1                               0   \n",
       "\n",
       "      Dummy_Purpose_Credit_Taken_High  \n",
       "3922                                1  \n",
       "1355                                1  \n",
       "3052                                1  \n",
       "4065                                1  \n",
       "3396                                1  \n",
       "\n",
       "[5 rows x 21 columns]"
      ]
     },
     "execution_count": 113,
     "metadata": {},
     "output_type": "execute_result"
    }
   ],
   "source": [
    "model_data.sample(5)"
   ]
  },
  {
   "cell_type": "code",
   "execution_count": 114,
   "metadata": {},
   "outputs": [
    {
     "data": {
      "text/plain": [
       "(3500, 21)"
      ]
     },
     "execution_count": 114,
     "metadata": {},
     "output_type": "execute_result"
    }
   ],
   "source": [
    "model_data.shape"
   ]
  },
  {
   "cell_type": "code",
   "execution_count": 115,
   "metadata": {},
   "outputs": [
    {
     "data": {
      "text/plain": [
       "(3500, 20)"
      ]
     },
     "execution_count": 115,
     "metadata": {},
     "output_type": "execute_result"
    }
   ],
   "source": [
    "model_data = model_data.drop(['Purpose_Credit_Taken'],axis=1)\n",
    "model_data.shape"
   ]
  },
  {
   "cell_type": "code",
   "execution_count": 120,
   "metadata": {},
   "outputs": [],
   "source": [
    "ages = [20, 22, 25, 27, 21, 23, 37, 31, 61, 45, 41, 32]\n",
    "#we are divide the ages into bin such as 18-25"
   ]
  },
  {
   "cell_type": "code",
   "execution_count": 121,
   "metadata": {},
   "outputs": [
    {
     "data": {
      "text/plain": [
       "[(18, 25], (18, 25], (18, 25], (25, 35], (18, 25], ..., (25, 35], (60, 100], (35, 60], (35, 60], (25, 35]]\n",
       "Length: 12\n",
       "Categories (4, interval[int64]): [(18, 25] < (25, 35] < (35, 60] < (60, 100]]"
      ]
     },
     "execution_count": 121,
     "metadata": {},
     "output_type": "execute_result"
    }
   ],
   "source": [
    "#values are excluded\n",
    "bins = [18, 25, 35, 60, 100]\n",
    "cats = pd.cut(ages, bins)\n",
    "cats"
   ]
  },
  {
   "cell_type": "code",
   "execution_count": 117,
   "metadata": {},
   "outputs": [
    {
     "data": {
      "text/plain": [
       "Interval(18, 25, closed='right')"
      ]
     },
     "execution_count": 117,
     "metadata": {},
     "output_type": "execute_result"
    }
   ],
   "source": [
    "type(cats)\n",
    "cats[0]\n"
   ]
  },
  {
   "cell_type": "code",
   "execution_count": 118,
   "metadata": {},
   "outputs": [
    {
     "data": {
      "text/plain": [
       "[[18, 25), [18, 25), [25, 35), [25, 35), [18, 25), ..., [25, 35), [60, 100), [35, 60), [35, 60), [25, 35)]\n",
       "Length: 12\n",
       "Categories (4, interval[int64]): [[18, 25) < [25, 35) < [35, 60) < [60, 100)]"
      ]
     },
     "execution_count": 118,
     "metadata": {},
     "output_type": "execute_result"
    }
   ],
   "source": [
    "pd.cut(ages,bins,right=False)\n",
    "#categories(4,object)"
   ]
  },
  {
   "cell_type": "code",
   "execution_count": 119,
   "metadata": {},
   "outputs": [
    {
     "data": {
      "text/plain": [
       "2706    (50, 100]\n",
       "2436     (30, 50]\n",
       "1201     (30, 50]\n",
       "1486    (50, 100]\n",
       "4286      (0, 30]\n",
       "2391      (0, 30]\n",
       "4911     (30, 50]\n",
       "3262      (0, 30]\n",
       "1361      (0, 30]\n",
       "149       (0, 30]\n",
       "3123     (30, 50]\n",
       "2395     (30, 50]\n",
       "4677      (0, 30]\n",
       "419      (30, 50]\n",
       "3496     (30, 50]\n",
       "3698      (0, 30]\n",
       "2703     (30, 50]\n",
       "2582     (30, 50]\n",
       "2835      (0, 30]\n",
       "4440     (30, 50]\n",
       "613      (30, 50]\n",
       "2240      (0, 30]\n",
       "2606     (30, 50]\n",
       "4860      (0, 30]\n",
       "2361     (30, 50]\n",
       "142      (30, 50]\n",
       "2571     (30, 50]\n",
       "3658     (30, 50]\n",
       "1664     (30, 50]\n",
       "3573      (0, 30]\n",
       "          ...    \n",
       "1717    (50, 100]\n",
       "317      (30, 50]\n",
       "3373    (50, 100]\n",
       "4690     (30, 50]\n",
       "110     (50, 100]\n",
       "225      (30, 50]\n",
       "1269      (0, 30]\n",
       "1325     (30, 50]\n",
       "1987     (30, 50]\n",
       "3325      (0, 30]\n",
       "1397     (30, 50]\n",
       "637      (30, 50]\n",
       "2039     (30, 50]\n",
       "3821     (30, 50]\n",
       "494       (0, 30]\n",
       "3720     (30, 50]\n",
       "75        (0, 30]\n",
       "4420     (30, 50]\n",
       "2350    (50, 100]\n",
       "3600     (30, 50]\n",
       "1766      (0, 30]\n",
       "1247      (0, 30]\n",
       "3075      (0, 30]\n",
       "920       (0, 30]\n",
       "3579      (0, 30]\n",
       "4191      (0, 30]\n",
       "4554     (30, 50]\n",
       "743       (0, 30]\n",
       "94       (30, 50]\n",
       "731      (30, 50]\n",
       "Name: Age, Length: 3500, dtype: category\n",
       "Categories (3, interval[int64]): [(0, 30] < (30, 50] < (50, 100]]"
      ]
     },
     "execution_count": 119,
     "metadata": {},
     "output_type": "execute_result"
    }
   ],
   "source": [
    "bins = [0,30,50,100]\n",
    "ages = model_data.Age\n",
    "pd.cut(ages,bins,right=True)"
   ]
  },
  {
   "cell_type": "code",
   "execution_count": 122,
   "metadata": {},
   "outputs": [
    {
     "data": {
      "text/html": [
       "<div>\n",
       "<style scoped>\n",
       "    .dataframe tbody tr th:only-of-type {\n",
       "        vertical-align: middle;\n",
       "    }\n",
       "\n",
       "    .dataframe tbody tr th {\n",
       "        vertical-align: top;\n",
       "    }\n",
       "\n",
       "    .dataframe thead th {\n",
       "        text-align: right;\n",
       "    }\n",
       "</style>\n",
       "<table border=\"1\" class=\"dataframe\">\n",
       "  <thead>\n",
       "    <tr style=\"text-align: right;\">\n",
       "      <th>Default_On_Payment</th>\n",
       "      <th>0</th>\n",
       "      <th>1</th>\n",
       "    </tr>\n",
       "    <tr>\n",
       "      <th>Age</th>\n",
       "      <th></th>\n",
       "      <th></th>\n",
       "    </tr>\n",
       "  </thead>\n",
       "  <tbody>\n",
       "    <tr>\n",
       "      <th>19</th>\n",
       "      <td>4</td>\n",
       "      <td>3</td>\n",
       "    </tr>\n",
       "    <tr>\n",
       "      <th>20</th>\n",
       "      <td>34</td>\n",
       "      <td>13</td>\n",
       "    </tr>\n",
       "    <tr>\n",
       "      <th>21</th>\n",
       "      <td>28</td>\n",
       "      <td>13</td>\n",
       "    </tr>\n",
       "    <tr>\n",
       "      <th>22</th>\n",
       "      <td>59</td>\n",
       "      <td>37</td>\n",
       "    </tr>\n",
       "    <tr>\n",
       "      <th>23</th>\n",
       "      <td>102</td>\n",
       "      <td>69</td>\n",
       "    </tr>\n",
       "    <tr>\n",
       "      <th>24</th>\n",
       "      <td>88</td>\n",
       "      <td>72</td>\n",
       "    </tr>\n",
       "    <tr>\n",
       "      <th>25</th>\n",
       "      <td>74</td>\n",
       "      <td>62</td>\n",
       "    </tr>\n",
       "    <tr>\n",
       "      <th>26</th>\n",
       "      <td>131</td>\n",
       "      <td>54</td>\n",
       "    </tr>\n",
       "    <tr>\n",
       "      <th>27</th>\n",
       "      <td>138</td>\n",
       "      <td>41</td>\n",
       "    </tr>\n",
       "    <tr>\n",
       "      <th>28</th>\n",
       "      <td>103</td>\n",
       "      <td>44</td>\n",
       "    </tr>\n",
       "    <tr>\n",
       "      <th>29</th>\n",
       "      <td>77</td>\n",
       "      <td>55</td>\n",
       "    </tr>\n",
       "    <tr>\n",
       "      <th>30</th>\n",
       "      <td>98</td>\n",
       "      <td>37</td>\n",
       "    </tr>\n",
       "    <tr>\n",
       "      <th>31</th>\n",
       "      <td>88</td>\n",
       "      <td>41</td>\n",
       "    </tr>\n",
       "    <tr>\n",
       "      <th>32</th>\n",
       "      <td>86</td>\n",
       "      <td>27</td>\n",
       "    </tr>\n",
       "    <tr>\n",
       "      <th>33</th>\n",
       "      <td>69</td>\n",
       "      <td>48</td>\n",
       "    </tr>\n",
       "    <tr>\n",
       "      <th>34</th>\n",
       "      <td>80</td>\n",
       "      <td>40</td>\n",
       "    </tr>\n",
       "    <tr>\n",
       "      <th>35</th>\n",
       "      <td>120</td>\n",
       "      <td>19</td>\n",
       "    </tr>\n",
       "    <tr>\n",
       "      <th>36</th>\n",
       "      <td>120</td>\n",
       "      <td>21</td>\n",
       "    </tr>\n",
       "    <tr>\n",
       "      <th>37</th>\n",
       "      <td>79</td>\n",
       "      <td>29</td>\n",
       "    </tr>\n",
       "    <tr>\n",
       "      <th>38</th>\n",
       "      <td>70</td>\n",
       "      <td>15</td>\n",
       "    </tr>\n",
       "    <tr>\n",
       "      <th>39</th>\n",
       "      <td>51</td>\n",
       "      <td>22</td>\n",
       "    </tr>\n",
       "    <tr>\n",
       "      <th>40</th>\n",
       "      <td>67</td>\n",
       "      <td>24</td>\n",
       "    </tr>\n",
       "    <tr>\n",
       "      <th>41</th>\n",
       "      <td>47</td>\n",
       "      <td>17</td>\n",
       "    </tr>\n",
       "    <tr>\n",
       "      <th>42</th>\n",
       "      <td>48</td>\n",
       "      <td>24</td>\n",
       "    </tr>\n",
       "    <tr>\n",
       "      <th>43</th>\n",
       "      <td>41</td>\n",
       "      <td>20</td>\n",
       "    </tr>\n",
       "    <tr>\n",
       "      <th>44</th>\n",
       "      <td>48</td>\n",
       "      <td>17</td>\n",
       "    </tr>\n",
       "    <tr>\n",
       "      <th>45</th>\n",
       "      <td>45</td>\n",
       "      <td>12</td>\n",
       "    </tr>\n",
       "    <tr>\n",
       "      <th>46</th>\n",
       "      <td>47</td>\n",
       "      <td>12</td>\n",
       "    </tr>\n",
       "    <tr>\n",
       "      <th>47</th>\n",
       "      <td>43</td>\n",
       "      <td>16</td>\n",
       "    </tr>\n",
       "    <tr>\n",
       "      <th>48</th>\n",
       "      <td>27</td>\n",
       "      <td>7</td>\n",
       "    </tr>\n",
       "    <tr>\n",
       "      <th>49</th>\n",
       "      <td>45</td>\n",
       "      <td>4</td>\n",
       "    </tr>\n",
       "    <tr>\n",
       "      <th>50</th>\n",
       "      <td>33</td>\n",
       "      <td>12</td>\n",
       "    </tr>\n",
       "    <tr>\n",
       "      <th>51</th>\n",
       "      <td>25</td>\n",
       "      <td>3</td>\n",
       "    </tr>\n",
       "    <tr>\n",
       "      <th>52</th>\n",
       "      <td>21</td>\n",
       "      <td>4</td>\n",
       "    </tr>\n",
       "    <tr>\n",
       "      <th>53</th>\n",
       "      <td>6</td>\n",
       "      <td>18</td>\n",
       "    </tr>\n",
       "    <tr>\n",
       "      <th>54</th>\n",
       "      <td>27</td>\n",
       "      <td>8</td>\n",
       "    </tr>\n",
       "    <tr>\n",
       "      <th>55</th>\n",
       "      <td>15</td>\n",
       "      <td>9</td>\n",
       "    </tr>\n",
       "    <tr>\n",
       "      <th>56</th>\n",
       "      <td>14</td>\n",
       "      <td>0</td>\n",
       "    </tr>\n",
       "    <tr>\n",
       "      <th>57</th>\n",
       "      <td>15</td>\n",
       "      <td>13</td>\n",
       "    </tr>\n",
       "    <tr>\n",
       "      <th>58</th>\n",
       "      <td>10</td>\n",
       "      <td>6</td>\n",
       "    </tr>\n",
       "    <tr>\n",
       "      <th>59</th>\n",
       "      <td>9</td>\n",
       "      <td>2</td>\n",
       "    </tr>\n",
       "    <tr>\n",
       "      <th>60</th>\n",
       "      <td>8</td>\n",
       "      <td>9</td>\n",
       "    </tr>\n",
       "    <tr>\n",
       "      <th>61</th>\n",
       "      <td>13</td>\n",
       "      <td>9</td>\n",
       "    </tr>\n",
       "    <tr>\n",
       "      <th>62</th>\n",
       "      <td>8</td>\n",
       "      <td>0</td>\n",
       "    </tr>\n",
       "    <tr>\n",
       "      <th>63</th>\n",
       "      <td>24</td>\n",
       "      <td>4</td>\n",
       "    </tr>\n",
       "    <tr>\n",
       "      <th>64</th>\n",
       "      <td>20</td>\n",
       "      <td>0</td>\n",
       "    </tr>\n",
       "    <tr>\n",
       "      <th>65</th>\n",
       "      <td>16</td>\n",
       "      <td>4</td>\n",
       "    </tr>\n",
       "    <tr>\n",
       "      <th>66</th>\n",
       "      <td>9</td>\n",
       "      <td>8</td>\n",
       "    </tr>\n",
       "    <tr>\n",
       "      <th>67</th>\n",
       "      <td>11</td>\n",
       "      <td>0</td>\n",
       "    </tr>\n",
       "    <tr>\n",
       "      <th>68</th>\n",
       "      <td>3</td>\n",
       "      <td>10</td>\n",
       "    </tr>\n",
       "    <tr>\n",
       "      <th>70</th>\n",
       "      <td>2</td>\n",
       "      <td>0</td>\n",
       "    </tr>\n",
       "    <tr>\n",
       "      <th>74</th>\n",
       "      <td>9</td>\n",
       "      <td>3</td>\n",
       "    </tr>\n",
       "    <tr>\n",
       "      <th>75</th>\n",
       "      <td>7</td>\n",
       "      <td>1</td>\n",
       "    </tr>\n",
       "  </tbody>\n",
       "</table>\n",
       "</div>"
      ],
      "text/plain": [
       "Default_On_Payment    0   1\n",
       "Age                        \n",
       "19                    4   3\n",
       "20                   34  13\n",
       "21                   28  13\n",
       "22                   59  37\n",
       "23                  102  69\n",
       "24                   88  72\n",
       "25                   74  62\n",
       "26                  131  54\n",
       "27                  138  41\n",
       "28                  103  44\n",
       "29                   77  55\n",
       "30                   98  37\n",
       "31                   88  41\n",
       "32                   86  27\n",
       "33                   69  48\n",
       "34                   80  40\n",
       "35                  120  19\n",
       "36                  120  21\n",
       "37                   79  29\n",
       "38                   70  15\n",
       "39                   51  22\n",
       "40                   67  24\n",
       "41                   47  17\n",
       "42                   48  24\n",
       "43                   41  20\n",
       "44                   48  17\n",
       "45                   45  12\n",
       "46                   47  12\n",
       "47                   43  16\n",
       "48                   27   7\n",
       "49                   45   4\n",
       "50                   33  12\n",
       "51                   25   3\n",
       "52                   21   4\n",
       "53                    6  18\n",
       "54                   27   8\n",
       "55                   15   9\n",
       "56                   14   0\n",
       "57                   15  13\n",
       "58                   10   6\n",
       "59                    9   2\n",
       "60                    8   9\n",
       "61                   13   9\n",
       "62                    8   0\n",
       "63                   24   4\n",
       "64                   20   0\n",
       "65                   16   4\n",
       "66                    9   8\n",
       "67                   11   0\n",
       "68                    3  10\n",
       "70                    2   0\n",
       "74                    9   3\n",
       "75                    7   1"
      ]
     },
     "execution_count": 122,
     "metadata": {},
     "output_type": "execute_result"
    }
   ],
   "source": [
    "pd.crosstab(data.Age,data.Default_On_Payment)"
   ]
  },
  {
   "cell_type": "code",
   "execution_count": 123,
   "metadata": {},
   "outputs": [
    {
     "data": {
      "image/png": "[encoded data removed]",
      "text/plain": [
       "<Figure size 432x288 with 1 Axes>"
      ]
     },
     "metadata": {
      "needs_background": "light"
     },
     "output_type": "display_data"
    }
   ],
   "source": [
    "pd.crosstab(data.Age,data.Default_On_Payment).plot(kind='bar')\n",
    "plt.title(' Frequency of Defaulters')\n",
    "plt.xlabel('Age')\n",
    "plt.ylabel('Frequency of Defaults')\n",
    "plt.savefig('dflt_fre_job')\n",
    "plt.show()"
   ]
  },
  {
   "cell_type": "code",
   "execution_count": 124,
   "metadata": {},
   "outputs": [
    {
     "name": "stdout",
     "output_type": "stream",
     "text": [
      "(3500, 20)\n"
     ]
    }
   ],
   "source": [
    "print(model_data.shape)\n",
    "model_data[['Age']].head()\n",
    "model_data_bkp2 = model_data"
   ]
  },
  {
   "cell_type": "code",
   "execution_count": 126,
   "metadata": {},
   "outputs": [],
   "source": [
    "bins = [0,30,100]\n",
    "ages = model_data.Age\n",
    "lbls = [1,0]\n",
    "model_data['Dummy_Age_Group'] = pd.cut(ages,labels=lbls,bins=bins)\n"
   ]
  },
  {
   "cell_type": "code",
   "execution_count": 127,
   "metadata": {},
   "outputs": [
    {
     "name": "stdout",
     "output_type": "stream",
     "text": [
      "(3500, 21)\n"
     ]
    }
   ],
   "source": [
    "print(model_data.shape)"
   ]
  },
  {
   "cell_type": "code",
   "execution_count": 128,
   "metadata": {},
   "outputs": [
    {
     "data": {
      "text/html": [
       "<div>\n",
       "<style scoped>\n",
       "    .dataframe tbody tr th:only-of-type {\n",
       "        vertical-align: middle;\n",
       "    }\n",
       "\n",
       "    .dataframe tbody tr th {\n",
       "        vertical-align: top;\n",
       "    }\n",
       "\n",
       "    .dataframe thead th {\n",
       "        text-align: right;\n",
       "    }\n",
       "</style>\n",
       "<table border=\"1\" class=\"dataframe\">\n",
       "  <thead>\n",
       "    <tr style=\"text-align: right;\">\n",
       "      <th></th>\n",
       "      <th>Age</th>\n",
       "      <th>Dummy_Age_Group</th>\n",
       "    </tr>\n",
       "  </thead>\n",
       "  <tbody>\n",
       "    <tr>\n",
       "      <th>4802</th>\n",
       "      <td>46</td>\n",
       "      <td>0</td>\n",
       "    </tr>\n",
       "    <tr>\n",
       "      <th>3514</th>\n",
       "      <td>38</td>\n",
       "      <td>0</td>\n",
       "    </tr>\n",
       "    <tr>\n",
       "      <th>2314</th>\n",
       "      <td>26</td>\n",
       "      <td>1</td>\n",
       "    </tr>\n",
       "    <tr>\n",
       "      <th>1362</th>\n",
       "      <td>25</td>\n",
       "      <td>1</td>\n",
       "    </tr>\n",
       "    <tr>\n",
       "      <th>4247</th>\n",
       "      <td>26</td>\n",
       "      <td>1</td>\n",
       "    </tr>\n",
       "    <tr>\n",
       "      <th>2720</th>\n",
       "      <td>55</td>\n",
       "      <td>0</td>\n",
       "    </tr>\n",
       "    <tr>\n",
       "      <th>4811</th>\n",
       "      <td>34</td>\n",
       "      <td>0</td>\n",
       "    </tr>\n",
       "    <tr>\n",
       "      <th>3321</th>\n",
       "      <td>53</td>\n",
       "      <td>0</td>\n",
       "    </tr>\n",
       "    <tr>\n",
       "      <th>2539</th>\n",
       "      <td>55</td>\n",
       "      <td>0</td>\n",
       "    </tr>\n",
       "    <tr>\n",
       "      <th>3539</th>\n",
       "      <td>40</td>\n",
       "      <td>0</td>\n",
       "    </tr>\n",
       "    <tr>\n",
       "      <th>4114</th>\n",
       "      <td>26</td>\n",
       "      <td>1</td>\n",
       "    </tr>\n",
       "    <tr>\n",
       "      <th>4489</th>\n",
       "      <td>50</td>\n",
       "      <td>0</td>\n",
       "    </tr>\n",
       "    <tr>\n",
       "      <th>2040</th>\n",
       "      <td>33</td>\n",
       "      <td>0</td>\n",
       "    </tr>\n",
       "    <tr>\n",
       "      <th>1093</th>\n",
       "      <td>74</td>\n",
       "      <td>0</td>\n",
       "    </tr>\n",
       "    <tr>\n",
       "      <th>3490</th>\n",
       "      <td>30</td>\n",
       "      <td>1</td>\n",
       "    </tr>\n",
       "  </tbody>\n",
       "</table>\n",
       "</div>"
      ],
      "text/plain": [
       "      Age Dummy_Age_Group\n",
       "4802   46               0\n",
       "3514   38               0\n",
       "2314   26               1\n",
       "1362   25               1\n",
       "4247   26               1\n",
       "2720   55               0\n",
       "4811   34               0\n",
       "3321   53               0\n",
       "2539   55               0\n",
       "3539   40               0\n",
       "4114   26               1\n",
       "4489   50               0\n",
       "2040   33               0\n",
       "1093   74               0\n",
       "3490   30               1"
      ]
     },
     "execution_count": 128,
     "metadata": {},
     "output_type": "execute_result"
    }
   ],
   "source": [
    "model_data[['Age','Dummy_Age_Group']].head()\n",
    "model_data[['Age','Dummy_Age_Group']].sample(15)\n"
   ]
  },
  {
   "cell_type": "code",
   "execution_count": 129,
   "metadata": {},
   "outputs": [
    {
     "data": {
      "text/plain": [
       "(3500, 21)"
      ]
     },
     "execution_count": 129,
     "metadata": {},
     "output_type": "execute_result"
    }
   ],
   "source": [
    "model_data.shape"
   ]
  },
  {
   "cell_type": "code",
   "execution_count": 130,
   "metadata": {},
   "outputs": [
    {
     "data": {
      "text/plain": [
       "(3500, 20)"
      ]
     },
     "execution_count": 130,
     "metadata": {},
     "output_type": "execute_result"
    }
   ],
   "source": [
    "model_data = model_data.drop(['Age'],axis=1)\n",
    "model_data.shape"
   ]
  },
  {
   "cell_type": "code",
   "execution_count": 131,
   "metadata": {},
   "outputs": [
    {
     "name": "stderr",
     "output_type": "stream",
     "text": [
      "C:\\Users\\skrag\\Anaconda3\\lib\\site-packages\\ipykernel_launcher.py:1: DeprecationWarning: \n",
      ".ix is deprecated. Please use\n",
      ".loc for label based indexing or\n",
      ".iloc for positional indexing\n",
      "\n",
      "See the documentation here:\n",
      "http://pandas.pydata.org/pandas-docs/stable/indexing.html#ix-indexer-is-deprecated\n",
      "  \"\"\"Entry point for launching an IPython kernel.\n",
      "C:\\Users\\skrag\\Anaconda3\\lib\\site-packages\\ipykernel_launcher.py:3: DeprecationWarning: \n",
      ".ix is deprecated. Please use\n",
      ".loc for label based indexing or\n",
      ".iloc for positional indexing\n",
      "\n",
      "See the documentation here:\n",
      "http://pandas.pydata.org/pandas-docs/stable/indexing.html#ix-indexer-is-deprecated\n",
      "  This is separate from the ipykernel package so we can avoid doing imports until\n"
     ]
    },
    {
     "data": {
      "text/html": [
       "<div>\n",
       "<style scoped>\n",
       "    .dataframe tbody tr th:only-of-type {\n",
       "        vertical-align: middle;\n",
       "    }\n",
       "\n",
       "    .dataframe tbody tr th {\n",
       "        vertical-align: top;\n",
       "    }\n",
       "\n",
       "    .dataframe thead th {\n",
       "        text-align: right;\n",
       "    }\n",
       "</style>\n",
       "<table border=\"1\" class=\"dataframe\">\n",
       "  <thead>\n",
       "    <tr style=\"text-align: right;\">\n",
       "      <th></th>\n",
       "      <th>Customer_ID</th>\n",
       "      <th>Credit_Amount</th>\n",
       "      <th>Duration_in_Months</th>\n",
       "      <th>Status_Checking_Accnt</th>\n",
       "      <th>Credit_History</th>\n",
       "      <th>Years_At_Present_Employment</th>\n",
       "      <th>Marital_Status_Gender</th>\n",
       "      <th>Other_Debtors_Guarantors</th>\n",
       "      <th>Current_Address_Yrs</th>\n",
       "      <th>Housing</th>\n",
       "      <th>Num_Credits</th>\n",
       "    </tr>\n",
       "  </thead>\n",
       "  <tbody>\n",
       "    <tr>\n",
       "      <th>2706</th>\n",
       "      <td>C17707</td>\n",
       "      <td>338</td>\n",
       "      <td>6</td>\n",
       "      <td>S11</td>\n",
       "      <td>A34</td>\n",
       "      <td>E75</td>\n",
       "      <td>A93</td>\n",
       "      <td>A101</td>\n",
       "      <td>4</td>\n",
       "      <td>A152</td>\n",
       "      <td>2</td>\n",
       "    </tr>\n",
       "    <tr>\n",
       "      <th>2436</th>\n",
       "      <td>C17437</td>\n",
       "      <td>2625</td>\n",
       "      <td>16</td>\n",
       "      <td>S11</td>\n",
       "      <td>A34</td>\n",
       "      <td>E75</td>\n",
       "      <td>A93</td>\n",
       "      <td>A103</td>\n",
       "      <td>4</td>\n",
       "      <td>A151</td>\n",
       "      <td>1</td>\n",
       "    </tr>\n",
       "    <tr>\n",
       "      <th>1201</th>\n",
       "      <td>C16202</td>\n",
       "      <td>6304</td>\n",
       "      <td>36</td>\n",
       "      <td>S14</td>\n",
       "      <td>A34</td>\n",
       "      <td>E75</td>\n",
       "      <td>A93</td>\n",
       "      <td>A101</td>\n",
       "      <td>4</td>\n",
       "      <td>A152</td>\n",
       "      <td>2</td>\n",
       "    </tr>\n",
       "    <tr>\n",
       "      <th>1486</th>\n",
       "      <td>C16487</td>\n",
       "      <td>2957</td>\n",
       "      <td>24</td>\n",
       "      <td>S11</td>\n",
       "      <td>A34</td>\n",
       "      <td>E75</td>\n",
       "      <td>A93</td>\n",
       "      <td>A101</td>\n",
       "      <td>4</td>\n",
       "      <td>A152</td>\n",
       "      <td>2</td>\n",
       "    </tr>\n",
       "    <tr>\n",
       "      <th>4286</th>\n",
       "      <td>C19287</td>\n",
       "      <td>590</td>\n",
       "      <td>6</td>\n",
       "      <td>S12</td>\n",
       "      <td>A32</td>\n",
       "      <td>E72</td>\n",
       "      <td>A94</td>\n",
       "      <td>A101</td>\n",
       "      <td>3</td>\n",
       "      <td>A152</td>\n",
       "      <td>1</td>\n",
       "    </tr>\n",
       "    <tr>\n",
       "      <th>2391</th>\n",
       "      <td>C17392</td>\n",
       "      <td>7174</td>\n",
       "      <td>42</td>\n",
       "      <td>S11</td>\n",
       "      <td>A32</td>\n",
       "      <td>E74</td>\n",
       "      <td>A92</td>\n",
       "      <td>A101</td>\n",
       "      <td>3</td>\n",
       "      <td>A152</td>\n",
       "      <td>1</td>\n",
       "    </tr>\n",
       "    <tr>\n",
       "      <th>4911</th>\n",
       "      <td>C19912</td>\n",
       "      <td>2096</td>\n",
       "      <td>12</td>\n",
       "      <td>S14</td>\n",
       "      <td>A34</td>\n",
       "      <td>E74</td>\n",
       "      <td>A93</td>\n",
       "      <td>A101</td>\n",
       "      <td>3</td>\n",
       "      <td>A152</td>\n",
       "      <td>1</td>\n",
       "    </tr>\n",
       "    <tr>\n",
       "      <th>3262</th>\n",
       "      <td>C18263</td>\n",
       "      <td>3617</td>\n",
       "      <td>12</td>\n",
       "      <td>S12</td>\n",
       "      <td>A34</td>\n",
       "      <td>E75</td>\n",
       "      <td>A93</td>\n",
       "      <td>A101</td>\n",
       "      <td>4</td>\n",
       "      <td>A151</td>\n",
       "      <td>3</td>\n",
       "    </tr>\n",
       "    <tr>\n",
       "      <th>1361</th>\n",
       "      <td>C16362</td>\n",
       "      <td>1925</td>\n",
       "      <td>24</td>\n",
       "      <td>S13</td>\n",
       "      <td>A32</td>\n",
       "      <td>E73</td>\n",
       "      <td>A93</td>\n",
       "      <td>A101</td>\n",
       "      <td>2</td>\n",
       "      <td>A152</td>\n",
       "      <td>1</td>\n",
       "    </tr>\n",
       "    <tr>\n",
       "      <th>149</th>\n",
       "      <td>C15150</td>\n",
       "      <td>674</td>\n",
       "      <td>12</td>\n",
       "      <td>S11</td>\n",
       "      <td>A32</td>\n",
       "      <td>E74</td>\n",
       "      <td>A94</td>\n",
       "      <td>A101</td>\n",
       "      <td>1</td>\n",
       "      <td>A152</td>\n",
       "      <td>1</td>\n",
       "    </tr>\n",
       "    <tr>\n",
       "      <th>3123</th>\n",
       "      <td>C18124</td>\n",
       "      <td>6289</td>\n",
       "      <td>42</td>\n",
       "      <td>S13</td>\n",
       "      <td>A30</td>\n",
       "      <td>E72</td>\n",
       "      <td>A91</td>\n",
       "      <td>A101</td>\n",
       "      <td>1</td>\n",
       "      <td>A152</td>\n",
       "      <td>2</td>\n",
       "    </tr>\n",
       "    <tr>\n",
       "      <th>2395</th>\n",
       "      <td>C17396</td>\n",
       "      <td>1884</td>\n",
       "      <td>12</td>\n",
       "      <td>S14</td>\n",
       "      <td>A32</td>\n",
       "      <td>E75</td>\n",
       "      <td>A93</td>\n",
       "      <td>A101</td>\n",
       "      <td>4</td>\n",
       "      <td>A152</td>\n",
       "      <td>1</td>\n",
       "    </tr>\n",
       "    <tr>\n",
       "      <th>4677</th>\n",
       "      <td>C19678</td>\n",
       "      <td>3711</td>\n",
       "      <td>36</td>\n",
       "      <td>S12</td>\n",
       "      <td>A32</td>\n",
       "      <td>E73</td>\n",
       "      <td>A94</td>\n",
       "      <td>A101</td>\n",
       "      <td>2</td>\n",
       "      <td>A152</td>\n",
       "      <td>1</td>\n",
       "    </tr>\n",
       "    <tr>\n",
       "      <th>419</th>\n",
       "      <td>C15420</td>\n",
       "      <td>10875</td>\n",
       "      <td>36</td>\n",
       "      <td>S14</td>\n",
       "      <td>A33</td>\n",
       "      <td>E75</td>\n",
       "      <td>A93</td>\n",
       "      <td>A101</td>\n",
       "      <td>2</td>\n",
       "      <td>A152</td>\n",
       "      <td>2</td>\n",
       "    </tr>\n",
       "    <tr>\n",
       "      <th>3496</th>\n",
       "      <td>C18497</td>\n",
       "      <td>1880</td>\n",
       "      <td>18</td>\n",
       "      <td>S11</td>\n",
       "      <td>A34</td>\n",
       "      <td>E74</td>\n",
       "      <td>A94</td>\n",
       "      <td>A101</td>\n",
       "      <td>1</td>\n",
       "      <td>A152</td>\n",
       "      <td>2</td>\n",
       "    </tr>\n",
       "    <tr>\n",
       "      <th>3698</th>\n",
       "      <td>C18699</td>\n",
       "      <td>6314</td>\n",
       "      <td>24</td>\n",
       "      <td>S14</td>\n",
       "      <td>A34</td>\n",
       "      <td>E71</td>\n",
       "      <td>A93</td>\n",
       "      <td>A102</td>\n",
       "      <td>2</td>\n",
       "      <td>A152</td>\n",
       "      <td>2</td>\n",
       "    </tr>\n",
       "    <tr>\n",
       "      <th>2703</th>\n",
       "      <td>C17704</td>\n",
       "      <td>1935</td>\n",
       "      <td>24</td>\n",
       "      <td>S12</td>\n",
       "      <td>A34</td>\n",
       "      <td>E75</td>\n",
       "      <td>A91</td>\n",
       "      <td>A101</td>\n",
       "      <td>4</td>\n",
       "      <td>A152</td>\n",
       "      <td>2</td>\n",
       "    </tr>\n",
       "    <tr>\n",
       "      <th>2582</th>\n",
       "      <td>C17583</td>\n",
       "      <td>10722</td>\n",
       "      <td>47</td>\n",
       "      <td>S11</td>\n",
       "      <td>A32</td>\n",
       "      <td>E72</td>\n",
       "      <td>A92</td>\n",
       "      <td>A101</td>\n",
       "      <td>1</td>\n",
       "      <td>A152</td>\n",
       "      <td>1</td>\n",
       "    </tr>\n",
       "    <tr>\n",
       "      <th>2835</th>\n",
       "      <td>C17836</td>\n",
       "      <td>458</td>\n",
       "      <td>9</td>\n",
       "      <td>S12</td>\n",
       "      <td>A32</td>\n",
       "      <td>E73</td>\n",
       "      <td>A93</td>\n",
       "      <td>A101</td>\n",
       "      <td>3</td>\n",
       "      <td>A152</td>\n",
       "      <td>1</td>\n",
       "    </tr>\n",
       "    <tr>\n",
       "      <th>4440</th>\n",
       "      <td>C19441</td>\n",
       "      <td>1544</td>\n",
       "      <td>4</td>\n",
       "      <td>S14</td>\n",
       "      <td>A34</td>\n",
       "      <td>E74</td>\n",
       "      <td>A93</td>\n",
       "      <td>A101</td>\n",
       "      <td>1</td>\n",
       "      <td>A152</td>\n",
       "      <td>3</td>\n",
       "    </tr>\n",
       "    <tr>\n",
       "      <th>613</th>\n",
       "      <td>C15614</td>\n",
       "      <td>6204</td>\n",
       "      <td>18</td>\n",
       "      <td>S12</td>\n",
       "      <td>A33</td>\n",
       "      <td>E73</td>\n",
       "      <td>A93</td>\n",
       "      <td>A101</td>\n",
       "      <td>4</td>\n",
       "      <td>A152</td>\n",
       "      <td>1</td>\n",
       "    </tr>\n",
       "    <tr>\n",
       "      <th>2240</th>\n",
       "      <td>C17241</td>\n",
       "      <td>3660</td>\n",
       "      <td>24</td>\n",
       "      <td>S11</td>\n",
       "      <td>A32</td>\n",
       "      <td>E73</td>\n",
       "      <td>A92</td>\n",
       "      <td>A101</td>\n",
       "      <td>4</td>\n",
       "      <td>A152</td>\n",
       "      <td>1</td>\n",
       "    </tr>\n",
       "    <tr>\n",
       "      <th>2606</th>\n",
       "      <td>C17607</td>\n",
       "      <td>760</td>\n",
       "      <td>8</td>\n",
       "      <td>S12</td>\n",
       "      <td>A32</td>\n",
       "      <td>E74</td>\n",
       "      <td>A92</td>\n",
       "      <td>A103</td>\n",
       "      <td>2</td>\n",
       "      <td>A152</td>\n",
       "      <td>1</td>\n",
       "    </tr>\n",
       "    <tr>\n",
       "      <th>4860</th>\n",
       "      <td>C19861</td>\n",
       "      <td>707</td>\n",
       "      <td>12</td>\n",
       "      <td>S14</td>\n",
       "      <td>A32</td>\n",
       "      <td>E73</td>\n",
       "      <td>A93</td>\n",
       "      <td>A101</td>\n",
       "      <td>2</td>\n",
       "      <td>A152</td>\n",
       "      <td>2</td>\n",
       "    </tr>\n",
       "    <tr>\n",
       "      <th>2361</th>\n",
       "      <td>C17362</td>\n",
       "      <td>2331</td>\n",
       "      <td>12</td>\n",
       "      <td>S14</td>\n",
       "      <td>A34</td>\n",
       "      <td>E75</td>\n",
       "      <td>A93</td>\n",
       "      <td>A102</td>\n",
       "      <td>4</td>\n",
       "      <td>A152</td>\n",
       "      <td>1</td>\n",
       "    </tr>\n",
       "    <tr>\n",
       "      <th>142</th>\n",
       "      <td>C15143</td>\n",
       "      <td>3535</td>\n",
       "      <td>36</td>\n",
       "      <td>S14</td>\n",
       "      <td>A34</td>\n",
       "      <td>E74</td>\n",
       "      <td>A93</td>\n",
       "      <td>A101</td>\n",
       "      <td>4</td>\n",
       "      <td>A152</td>\n",
       "      <td>2</td>\n",
       "    </tr>\n",
       "    <tr>\n",
       "      <th>2571</th>\n",
       "      <td>C17572</td>\n",
       "      <td>1881</td>\n",
       "      <td>12</td>\n",
       "      <td>S13</td>\n",
       "      <td>A32</td>\n",
       "      <td>E73</td>\n",
       "      <td>A92</td>\n",
       "      <td>A101</td>\n",
       "      <td>2</td>\n",
       "      <td>A151</td>\n",
       "      <td>1</td>\n",
       "    </tr>\n",
       "    <tr>\n",
       "      <th>3658</th>\n",
       "      <td>C18659</td>\n",
       "      <td>2181</td>\n",
       "      <td>30</td>\n",
       "      <td>S12</td>\n",
       "      <td>A34</td>\n",
       "      <td>E75</td>\n",
       "      <td>A93</td>\n",
       "      <td>A101</td>\n",
       "      <td>4</td>\n",
       "      <td>A152</td>\n",
       "      <td>2</td>\n",
       "    </tr>\n",
       "    <tr>\n",
       "      <th>1664</th>\n",
       "      <td>C16665</td>\n",
       "      <td>1533</td>\n",
       "      <td>18</td>\n",
       "      <td>S14</td>\n",
       "      <td>A32</td>\n",
       "      <td>E72</td>\n",
       "      <td>A94</td>\n",
       "      <td>A102</td>\n",
       "      <td>1</td>\n",
       "      <td>A152</td>\n",
       "      <td>1</td>\n",
       "    </tr>\n",
       "    <tr>\n",
       "      <th>3573</th>\n",
       "      <td>C18574</td>\n",
       "      <td>7855</td>\n",
       "      <td>36</td>\n",
       "      <td>S14</td>\n",
       "      <td>A34</td>\n",
       "      <td>E73</td>\n",
       "      <td>A92</td>\n",
       "      <td>A101</td>\n",
       "      <td>2</td>\n",
       "      <td>A152</td>\n",
       "      <td>2</td>\n",
       "    </tr>\n",
       "    <tr>\n",
       "      <th>...</th>\n",
       "      <td>...</td>\n",
       "      <td>...</td>\n",
       "      <td>...</td>\n",
       "      <td>...</td>\n",
       "      <td>...</td>\n",
       "      <td>...</td>\n",
       "      <td>...</td>\n",
       "      <td>...</td>\n",
       "      <td>...</td>\n",
       "      <td>...</td>\n",
       "      <td>...</td>\n",
       "    </tr>\n",
       "    <tr>\n",
       "      <th>1717</th>\n",
       "      <td>C16718</td>\n",
       "      <td>2767</td>\n",
       "      <td>21</td>\n",
       "      <td>S12</td>\n",
       "      <td>A32</td>\n",
       "      <td>E75</td>\n",
       "      <td>A91</td>\n",
       "      <td>A101</td>\n",
       "      <td>2</td>\n",
       "      <td>A151</td>\n",
       "      <td>2</td>\n",
       "    </tr>\n",
       "    <tr>\n",
       "      <th>317</th>\n",
       "      <td>C15318</td>\n",
       "      <td>2292</td>\n",
       "      <td>12</td>\n",
       "      <td>S14</td>\n",
       "      <td>A34</td>\n",
       "      <td>E71</td>\n",
       "      <td>A93</td>\n",
       "      <td>A101</td>\n",
       "      <td>2</td>\n",
       "      <td>A152</td>\n",
       "      <td>2</td>\n",
       "    </tr>\n",
       "    <tr>\n",
       "      <th>3373</th>\n",
       "      <td>C18374</td>\n",
       "      <td>1597</td>\n",
       "      <td>24</td>\n",
       "      <td>S14</td>\n",
       "      <td>A34</td>\n",
       "      <td>E75</td>\n",
       "      <td>A93</td>\n",
       "      <td>A101</td>\n",
       "      <td>4</td>\n",
       "      <td>A153</td>\n",
       "      <td>2</td>\n",
       "    </tr>\n",
       "    <tr>\n",
       "      <th>4690</th>\n",
       "      <td>C19691</td>\n",
       "      <td>1592</td>\n",
       "      <td>12</td>\n",
       "      <td>S14</td>\n",
       "      <td>A34</td>\n",
       "      <td>E74</td>\n",
       "      <td>A92</td>\n",
       "      <td>A101</td>\n",
       "      <td>2</td>\n",
       "      <td>A152</td>\n",
       "      <td>1</td>\n",
       "    </tr>\n",
       "    <tr>\n",
       "      <th>110</th>\n",
       "      <td>C15111</td>\n",
       "      <td>1154</td>\n",
       "      <td>11</td>\n",
       "      <td>S14</td>\n",
       "      <td>A34</td>\n",
       "      <td>E71</td>\n",
       "      <td>A92</td>\n",
       "      <td>A101</td>\n",
       "      <td>4</td>\n",
       "      <td>A152</td>\n",
       "      <td>3</td>\n",
       "    </tr>\n",
       "    <tr>\n",
       "      <th>225</th>\n",
       "      <td>C15226</td>\n",
       "      <td>3979</td>\n",
       "      <td>48</td>\n",
       "      <td>S12</td>\n",
       "      <td>A32</td>\n",
       "      <td>E74</td>\n",
       "      <td>A93</td>\n",
       "      <td>A101</td>\n",
       "      <td>1</td>\n",
       "      <td>A152</td>\n",
       "      <td>2</td>\n",
       "    </tr>\n",
       "    <tr>\n",
       "      <th>1269</th>\n",
       "      <td>C16270</td>\n",
       "      <td>1864</td>\n",
       "      <td>18</td>\n",
       "      <td>S14</td>\n",
       "      <td>A34</td>\n",
       "      <td>E73</td>\n",
       "      <td>A92</td>\n",
       "      <td>A101</td>\n",
       "      <td>2</td>\n",
       "      <td>A152</td>\n",
       "      <td>2</td>\n",
       "    </tr>\n",
       "    <tr>\n",
       "      <th>1325</th>\n",
       "      <td>C16326</td>\n",
       "      <td>3979</td>\n",
       "      <td>48</td>\n",
       "      <td>S12</td>\n",
       "      <td>A32</td>\n",
       "      <td>E74</td>\n",
       "      <td>A93</td>\n",
       "      <td>A101</td>\n",
       "      <td>1</td>\n",
       "      <td>A152</td>\n",
       "      <td>2</td>\n",
       "    </tr>\n",
       "    <tr>\n",
       "      <th>1987</th>\n",
       "      <td>C16988</td>\n",
       "      <td>2397</td>\n",
       "      <td>24</td>\n",
       "      <td>S14</td>\n",
       "      <td>A32</td>\n",
       "      <td>E75</td>\n",
       "      <td>A93</td>\n",
       "      <td>A101</td>\n",
       "      <td>2</td>\n",
       "      <td>A152</td>\n",
       "      <td>2</td>\n",
       "    </tr>\n",
       "    <tr>\n",
       "      <th>3325</th>\n",
       "      <td>C18326</td>\n",
       "      <td>1800</td>\n",
       "      <td>18</td>\n",
       "      <td>S14</td>\n",
       "      <td>A34</td>\n",
       "      <td>E73</td>\n",
       "      <td>A93</td>\n",
       "      <td>A101</td>\n",
       "      <td>2</td>\n",
       "      <td>A152</td>\n",
       "      <td>2</td>\n",
       "    </tr>\n",
       "    <tr>\n",
       "      <th>1397</th>\n",
       "      <td>C16398</td>\n",
       "      <td>1592</td>\n",
       "      <td>12</td>\n",
       "      <td>S14</td>\n",
       "      <td>A34</td>\n",
       "      <td>E74</td>\n",
       "      <td>A92</td>\n",
       "      <td>A101</td>\n",
       "      <td>2</td>\n",
       "      <td>A152</td>\n",
       "      <td>1</td>\n",
       "    </tr>\n",
       "    <tr>\n",
       "      <th>637</th>\n",
       "      <td>C15638</td>\n",
       "      <td>1569</td>\n",
       "      <td>15</td>\n",
       "      <td>S14</td>\n",
       "      <td>A31</td>\n",
       "      <td>E75</td>\n",
       "      <td>A93</td>\n",
       "      <td>A101</td>\n",
       "      <td>4</td>\n",
       "      <td>A152</td>\n",
       "      <td>1</td>\n",
       "    </tr>\n",
       "    <tr>\n",
       "      <th>2039</th>\n",
       "      <td>C17040</td>\n",
       "      <td>3780</td>\n",
       "      <td>18</td>\n",
       "      <td>S14</td>\n",
       "      <td>A34</td>\n",
       "      <td>E72</td>\n",
       "      <td>A91</td>\n",
       "      <td>A101</td>\n",
       "      <td>2</td>\n",
       "      <td>A152</td>\n",
       "      <td>2</td>\n",
       "    </tr>\n",
       "    <tr>\n",
       "      <th>3821</th>\n",
       "      <td>C18822</td>\n",
       "      <td>2375</td>\n",
       "      <td>24</td>\n",
       "      <td>S14</td>\n",
       "      <td>A33</td>\n",
       "      <td>E73</td>\n",
       "      <td>A93</td>\n",
       "      <td>A101</td>\n",
       "      <td>2</td>\n",
       "      <td>A152</td>\n",
       "      <td>2</td>\n",
       "    </tr>\n",
       "    <tr>\n",
       "      <th>494</th>\n",
       "      <td>C15495</td>\n",
       "      <td>3441</td>\n",
       "      <td>30</td>\n",
       "      <td>S12</td>\n",
       "      <td>A32</td>\n",
       "      <td>E73</td>\n",
       "      <td>A92</td>\n",
       "      <td>A102</td>\n",
       "      <td>4</td>\n",
       "      <td>A151</td>\n",
       "      <td>1</td>\n",
       "    </tr>\n",
       "    <tr>\n",
       "      <th>3720</th>\n",
       "      <td>C18721</td>\n",
       "      <td>12204</td>\n",
       "      <td>48</td>\n",
       "      <td>S12</td>\n",
       "      <td>A30</td>\n",
       "      <td>E73</td>\n",
       "      <td>A93</td>\n",
       "      <td>A101</td>\n",
       "      <td>2</td>\n",
       "      <td>A152</td>\n",
       "      <td>1</td>\n",
       "    </tr>\n",
       "    <tr>\n",
       "      <th>75</th>\n",
       "      <td>C15076</td>\n",
       "      <td>4169</td>\n",
       "      <td>24</td>\n",
       "      <td>S11</td>\n",
       "      <td>A32</td>\n",
       "      <td>E73</td>\n",
       "      <td>A93</td>\n",
       "      <td>A101</td>\n",
       "      <td>4</td>\n",
       "      <td>A152</td>\n",
       "      <td>1</td>\n",
       "    </tr>\n",
       "    <tr>\n",
       "      <th>4420</th>\n",
       "      <td>C19421</td>\n",
       "      <td>2096</td>\n",
       "      <td>12</td>\n",
       "      <td>S14</td>\n",
       "      <td>A34</td>\n",
       "      <td>E74</td>\n",
       "      <td>A93</td>\n",
       "      <td>A101</td>\n",
       "      <td>3</td>\n",
       "      <td>A152</td>\n",
       "      <td>1</td>\n",
       "    </tr>\n",
       "    <tr>\n",
       "      <th>2350</th>\n",
       "      <td>C17351</td>\n",
       "      <td>2032</td>\n",
       "      <td>24</td>\n",
       "      <td>S14</td>\n",
       "      <td>A33</td>\n",
       "      <td>E75</td>\n",
       "      <td>A93</td>\n",
       "      <td>A101</td>\n",
       "      <td>4</td>\n",
       "      <td>A153</td>\n",
       "      <td>2</td>\n",
       "    </tr>\n",
       "    <tr>\n",
       "      <th>3600</th>\n",
       "      <td>C18601</td>\n",
       "      <td>10222</td>\n",
       "      <td>48</td>\n",
       "      <td>S14</td>\n",
       "      <td>A32</td>\n",
       "      <td>E74</td>\n",
       "      <td>A93</td>\n",
       "      <td>A101</td>\n",
       "      <td>3</td>\n",
       "      <td>A152</td>\n",
       "      <td>1</td>\n",
       "    </tr>\n",
       "    <tr>\n",
       "      <th>1766</th>\n",
       "      <td>C16767</td>\n",
       "      <td>3832</td>\n",
       "      <td>30</td>\n",
       "      <td>S12</td>\n",
       "      <td>A32</td>\n",
       "      <td>E72</td>\n",
       "      <td>A94</td>\n",
       "      <td>A101</td>\n",
       "      <td>1</td>\n",
       "      <td>A152</td>\n",
       "      <td>1</td>\n",
       "    </tr>\n",
       "    <tr>\n",
       "      <th>1247</th>\n",
       "      <td>C16248</td>\n",
       "      <td>3190</td>\n",
       "      <td>18</td>\n",
       "      <td>S11</td>\n",
       "      <td>A32</td>\n",
       "      <td>E73</td>\n",
       "      <td>A92</td>\n",
       "      <td>A101</td>\n",
       "      <td>2</td>\n",
       "      <td>A152</td>\n",
       "      <td>1</td>\n",
       "    </tr>\n",
       "    <tr>\n",
       "      <th>3075</th>\n",
       "      <td>C18076</td>\n",
       "      <td>9034</td>\n",
       "      <td>36</td>\n",
       "      <td>S12</td>\n",
       "      <td>A32</td>\n",
       "      <td>E72</td>\n",
       "      <td>A93</td>\n",
       "      <td>A102</td>\n",
       "      <td>1</td>\n",
       "      <td>A151</td>\n",
       "      <td>1</td>\n",
       "    </tr>\n",
       "    <tr>\n",
       "      <th>920</th>\n",
       "      <td>C15921</td>\n",
       "      <td>4110</td>\n",
       "      <td>24</td>\n",
       "      <td>S11</td>\n",
       "      <td>A30</td>\n",
       "      <td>E75</td>\n",
       "      <td>A93</td>\n",
       "      <td>A101</td>\n",
       "      <td>4</td>\n",
       "      <td>A151</td>\n",
       "      <td>2</td>\n",
       "    </tr>\n",
       "    <tr>\n",
       "      <th>3579</th>\n",
       "      <td>C18580</td>\n",
       "      <td>11590</td>\n",
       "      <td>48</td>\n",
       "      <td>S14</td>\n",
       "      <td>A34</td>\n",
       "      <td>E73</td>\n",
       "      <td>A92</td>\n",
       "      <td>A101</td>\n",
       "      <td>4</td>\n",
       "      <td>A151</td>\n",
       "      <td>2</td>\n",
       "    </tr>\n",
       "    <tr>\n",
       "      <th>4191</th>\n",
       "      <td>C19192</td>\n",
       "      <td>1659</td>\n",
       "      <td>24</td>\n",
       "      <td>S11</td>\n",
       "      <td>A33</td>\n",
       "      <td>E72</td>\n",
       "      <td>A92</td>\n",
       "      <td>A101</td>\n",
       "      <td>2</td>\n",
       "      <td>A151</td>\n",
       "      <td>1</td>\n",
       "    </tr>\n",
       "    <tr>\n",
       "      <th>4554</th>\n",
       "      <td>C19555</td>\n",
       "      <td>7763</td>\n",
       "      <td>48</td>\n",
       "      <td>S11</td>\n",
       "      <td>A32</td>\n",
       "      <td>E75</td>\n",
       "      <td>A93</td>\n",
       "      <td>A101</td>\n",
       "      <td>4</td>\n",
       "      <td>A153</td>\n",
       "      <td>1</td>\n",
       "    </tr>\n",
       "    <tr>\n",
       "      <th>743</th>\n",
       "      <td>C15744</td>\n",
       "      <td>7721</td>\n",
       "      <td>24</td>\n",
       "      <td>S11</td>\n",
       "      <td>A32</td>\n",
       "      <td>E72</td>\n",
       "      <td>A92</td>\n",
       "      <td>A101</td>\n",
       "      <td>2</td>\n",
       "      <td>A152</td>\n",
       "      <td>1</td>\n",
       "    </tr>\n",
       "    <tr>\n",
       "      <th>94</th>\n",
       "      <td>C15095</td>\n",
       "      <td>2759</td>\n",
       "      <td>12</td>\n",
       "      <td>S14</td>\n",
       "      <td>A30</td>\n",
       "      <td>E75</td>\n",
       "      <td>A93</td>\n",
       "      <td>A101</td>\n",
       "      <td>4</td>\n",
       "      <td>A152</td>\n",
       "      <td>2</td>\n",
       "    </tr>\n",
       "    <tr>\n",
       "      <th>731</th>\n",
       "      <td>C15732</td>\n",
       "      <td>368</td>\n",
       "      <td>6</td>\n",
       "      <td>S12</td>\n",
       "      <td>A32</td>\n",
       "      <td>E75</td>\n",
       "      <td>A93</td>\n",
       "      <td>A101</td>\n",
       "      <td>4</td>\n",
       "      <td>A152</td>\n",
       "      <td>1</td>\n",
       "    </tr>\n",
       "  </tbody>\n",
       "</table>\n",
       "<p>3500 rows × 11 columns</p>\n",
       "</div>"
      ],
      "text/plain": [
       "     Customer_ID  Credit_Amount  Duration_in_Months Status_Checking_Accnt  \\\n",
       "2706      C17707            338                   6                   S11   \n",
       "2436      C17437           2625                  16                   S11   \n",
       "1201      C16202           6304                  36                   S14   \n",
       "1486      C16487           2957                  24                   S11   \n",
       "4286      C19287            590                   6                   S12   \n",
       "2391      C17392           7174                  42                   S11   \n",
       "4911      C19912           2096                  12                   S14   \n",
       "3262      C18263           3617                  12                   S12   \n",
       "1361      C16362           1925                  24                   S13   \n",
       "149       C15150            674                  12                   S11   \n",
       "3123      C18124           6289                  42                   S13   \n",
       "2395      C17396           1884                  12                   S14   \n",
       "4677      C19678           3711                  36                   S12   \n",
       "419       C15420          10875                  36                   S14   \n",
       "3496      C18497           1880                  18                   S11   \n",
       "3698      C18699           6314                  24                   S14   \n",
       "2703      C17704           1935                  24                   S12   \n",
       "2582      C17583          10722                  47                   S11   \n",
       "2835      C17836            458                   9                   S12   \n",
       "4440      C19441           1544                   4                   S14   \n",
       "613       C15614           6204                  18                   S12   \n",
       "2240      C17241           3660                  24                   S11   \n",
       "2606      C17607            760                   8                   S12   \n",
       "4860      C19861            707                  12                   S14   \n",
       "2361      C17362           2331                  12                   S14   \n",
       "142       C15143           3535                  36                   S14   \n",
       "2571      C17572           1881                  12                   S13   \n",
       "3658      C18659           2181                  30                   S12   \n",
       "1664      C16665           1533                  18                   S14   \n",
       "3573      C18574           7855                  36                   S14   \n",
       "...          ...            ...                 ...                   ...   \n",
       "1717      C16718           2767                  21                   S12   \n",
       "317       C15318           2292                  12                   S14   \n",
       "3373      C18374           1597                  24                   S14   \n",
       "4690      C19691           1592                  12                   S14   \n",
       "110       C15111           1154                  11                   S14   \n",
       "225       C15226           3979                  48                   S12   \n",
       "1269      C16270           1864                  18                   S14   \n",
       "1325      C16326           3979                  48                   S12   \n",
       "1987      C16988           2397                  24                   S14   \n",
       "3325      C18326           1800                  18                   S14   \n",
       "1397      C16398           1592                  12                   S14   \n",
       "637       C15638           1569                  15                   S14   \n",
       "2039      C17040           3780                  18                   S14   \n",
       "3821      C18822           2375                  24                   S14   \n",
       "494       C15495           3441                  30                   S12   \n",
       "3720      C18721          12204                  48                   S12   \n",
       "75        C15076           4169                  24                   S11   \n",
       "4420      C19421           2096                  12                   S14   \n",
       "2350      C17351           2032                  24                   S14   \n",
       "3600      C18601          10222                  48                   S14   \n",
       "1766      C16767           3832                  30                   S12   \n",
       "1247      C16248           3190                  18                   S11   \n",
       "3075      C18076           9034                  36                   S12   \n",
       "920       C15921           4110                  24                   S11   \n",
       "3579      C18580          11590                  48                   S14   \n",
       "4191      C19192           1659                  24                   S11   \n",
       "4554      C19555           7763                  48                   S11   \n",
       "743       C15744           7721                  24                   S11   \n",
       "94        C15095           2759                  12                   S14   \n",
       "731       C15732            368                   6                   S12   \n",
       "\n",
       "     Credit_History Years_At_Present_Employment Marital_Status_Gender  \\\n",
       "2706            A34                         E75                   A93   \n",
       "2436            A34                         E75                   A93   \n",
       "1201            A34                         E75                   A93   \n",
       "1486            A34                         E75                   A93   \n",
       "4286            A32                         E72                   A94   \n",
       "2391            A32                         E74                   A92   \n",
       "4911            A34                         E74                   A93   \n",
       "3262            A34                         E75                   A93   \n",
       "1361            A32                         E73                   A93   \n",
       "149             A32                         E74                   A94   \n",
       "3123            A30                         E72                   A91   \n",
       "2395            A32                         E75                   A93   \n",
       "4677            A32                         E73                   A94   \n",
       "419             A33                         E75                   A93   \n",
       "3496            A34                         E74                   A94   \n",
       "3698            A34                         E71                   A93   \n",
       "2703            A34                         E75                   A91   \n",
       "2582            A32                         E72                   A92   \n",
       "2835            A32                         E73                   A93   \n",
       "4440            A34                         E74                   A93   \n",
       "613             A33                         E73                   A93   \n",
       "2240            A32                         E73                   A92   \n",
       "2606            A32                         E74                   A92   \n",
       "4860            A32                         E73                   A93   \n",
       "2361            A34                         E75                   A93   \n",
       "142             A34                         E74                   A93   \n",
       "2571            A32                         E73                   A92   \n",
       "3658            A34                         E75                   A93   \n",
       "1664            A32                         E72                   A94   \n",
       "3573            A34                         E73                   A92   \n",
       "...             ...                         ...                   ...   \n",
       "1717            A32                         E75                   A91   \n",
       "317             A34                         E71                   A93   \n",
       "3373            A34                         E75                   A93   \n",
       "4690            A34                         E74                   A92   \n",
       "110             A34                         E71                   A92   \n",
       "225             A32                         E74                   A93   \n",
       "1269            A34                         E73                   A92   \n",
       "1325            A32                         E74                   A93   \n",
       "1987            A32                         E75                   A93   \n",
       "3325            A34                         E73                   A93   \n",
       "1397            A34                         E74                   A92   \n",
       "637             A31                         E75                   A93   \n",
       "2039            A34                         E72                   A91   \n",
       "3821            A33                         E73                   A93   \n",
       "494             A32                         E73                   A92   \n",
       "3720            A30                         E73                   A93   \n",
       "75              A32                         E73                   A93   \n",
       "4420            A34                         E74                   A93   \n",
       "2350            A33                         E75                   A93   \n",
       "3600            A32                         E74                   A93   \n",
       "1766            A32                         E72                   A94   \n",
       "1247            A32                         E73                   A92   \n",
       "3075            A32                         E72                   A93   \n",
       "920             A30                         E75                   A93   \n",
       "3579            A34                         E73                   A92   \n",
       "4191            A33                         E72                   A92   \n",
       "4554            A32                         E75                   A93   \n",
       "743             A32                         E72                   A92   \n",
       "94              A30                         E75                   A93   \n",
       "731             A32                         E75                   A93   \n",
       "\n",
       "     Other_Debtors_Guarantors  Current_Address_Yrs Housing  Num_Credits  \n",
       "2706                     A101                    4    A152            2  \n",
       "2436                     A103                    4    A151            1  \n",
       "1201                     A101                    4    A152            2  \n",
       "1486                     A101                    4    A152            2  \n",
       "4286                     A101                    3    A152            1  \n",
       "2391                     A101                    3    A152            1  \n",
       "4911                     A101                    3    A152            1  \n",
       "3262                     A101                    4    A151            3  \n",
       "1361                     A101                    2    A152            1  \n",
       "149                      A101                    1    A152            1  \n",
       "3123                     A101                    1    A152            2  \n",
       "2395                     A101                    4    A152            1  \n",
       "4677                     A101                    2    A152            1  \n",
       "419                      A101                    2    A152            2  \n",
       "3496                     A101                    1    A152            2  \n",
       "3698                     A102                    2    A152            2  \n",
       "2703                     A101                    4    A152            2  \n",
       "2582                     A101                    1    A152            1  \n",
       "2835                     A101                    3    A152            1  \n",
       "4440                     A101                    1    A152            3  \n",
       "613                      A101                    4    A152            1  \n",
       "2240                     A101                    4    A152            1  \n",
       "2606                     A103                    2    A152            1  \n",
       "4860                     A101                    2    A152            2  \n",
       "2361                     A102                    4    A152            1  \n",
       "142                      A101                    4    A152            2  \n",
       "2571                     A101                    2    A151            1  \n",
       "3658                     A101                    4    A152            2  \n",
       "1664                     A102                    1    A152            1  \n",
       "3573                     A101                    2    A152            2  \n",
       "...                       ...                  ...     ...          ...  \n",
       "1717                     A101                    2    A151            2  \n",
       "317                      A101                    2    A152            2  \n",
       "3373                     A101                    4    A153            2  \n",
       "4690                     A101                    2    A152            1  \n",
       "110                      A101                    4    A152            3  \n",
       "225                      A101                    1    A152            2  \n",
       "1269                     A101                    2    A152            2  \n",
       "1325                     A101                    1    A152            2  \n",
       "1987                     A101                    2    A152            2  \n",
       "3325                     A101                    2    A152            2  \n",
       "1397                     A101                    2    A152            1  \n",
       "637                      A101                    4    A152            1  \n",
       "2039                     A101                    2    A152            2  \n",
       "3821                     A101                    2    A152            2  \n",
       "494                      A102                    4    A151            1  \n",
       "3720                     A101                    2    A152            1  \n",
       "75                       A101                    4    A152            1  \n",
       "4420                     A101                    3    A152            1  \n",
       "2350                     A101                    4    A153            2  \n",
       "3600                     A101                    3    A152            1  \n",
       "1766                     A101                    1    A152            1  \n",
       "1247                     A101                    2    A152            1  \n",
       "3075                     A102                    1    A151            1  \n",
       "920                      A101                    4    A151            2  \n",
       "3579                     A101                    4    A151            2  \n",
       "4191                     A101                    2    A151            1  \n",
       "4554                     A101                    4    A153            1  \n",
       "743                      A101                    2    A152            1  \n",
       "94                       A101                    4    A152            2  \n",
       "731                      A101                    4    A152            1  \n",
       "\n",
       "[3500 rows x 11 columns]"
      ]
     },
     "execution_count": 131,
     "metadata": {},
     "output_type": "execute_result"
    }
   ],
   "source": [
    "X = model_data.ix[:,(1,2,8,10,13,14,15,16,17,)] # ivs for train\n",
    "X\n",
    "y = model_data.ix[:,:11]\n",
    "y\n"
   ]
  },
  {
   "cell_type": "code",
   "execution_count": 132,
   "metadata": {},
   "outputs": [],
   "source": [
    "import statsmodels.api as sm\n"
   ]
  },
  {
   "cell_type": "code",
   "execution_count": 133,
   "metadata": {},
   "outputs": [
    {
     "data": {
      "text/html": [
       "<div>\n",
       "<style scoped>\n",
       "    .dataframe tbody tr th:only-of-type {\n",
       "        vertical-align: middle;\n",
       "    }\n",
       "\n",
       "    .dataframe tbody tr th {\n",
       "        vertical-align: top;\n",
       "    }\n",
       "\n",
       "    .dataframe thead th {\n",
       "        text-align: right;\n",
       "    }\n",
       "</style>\n",
       "<table border=\"1\" class=\"dataframe\">\n",
       "  <thead>\n",
       "    <tr style=\"text-align: right;\">\n",
       "      <th></th>\n",
       "      <th>Credit_Amount</th>\n",
       "      <th>Duration_in_Months</th>\n",
       "      <th>Current_Address_Yrs</th>\n",
       "      <th>Num_Credits</th>\n",
       "      <th>Num_Dependents</th>\n",
       "      <th>Default_On_Payment</th>\n",
       "      <th>Dummy_A171</th>\n",
       "      <th>Dummy_A172</th>\n",
       "      <th>Dummy_A173</th>\n",
       "      <th>Dummy_Purpose_Credit_Taken_Low</th>\n",
       "      <th>Dummy_Purpose_Credit_Taken_High</th>\n",
       "    </tr>\n",
       "  </thead>\n",
       "  <tbody>\n",
       "    <tr>\n",
       "      <th>2706</th>\n",
       "      <td>338</td>\n",
       "      <td>6</td>\n",
       "      <td>4</td>\n",
       "      <td>2</td>\n",
       "      <td>1</td>\n",
       "      <td>0</td>\n",
       "      <td>0</td>\n",
       "      <td>0</td>\n",
       "      <td>1</td>\n",
       "      <td>1</td>\n",
       "      <td>0</td>\n",
       "    </tr>\n",
       "    <tr>\n",
       "      <th>2436</th>\n",
       "      <td>2625</td>\n",
       "      <td>16</td>\n",
       "      <td>4</td>\n",
       "      <td>1</td>\n",
       "      <td>1</td>\n",
       "      <td>1</td>\n",
       "      <td>0</td>\n",
       "      <td>0</td>\n",
       "      <td>1</td>\n",
       "      <td>0</td>\n",
       "      <td>1</td>\n",
       "    </tr>\n",
       "    <tr>\n",
       "      <th>1201</th>\n",
       "      <td>6304</td>\n",
       "      <td>36</td>\n",
       "      <td>4</td>\n",
       "      <td>2</td>\n",
       "      <td>1</td>\n",
       "      <td>0</td>\n",
       "      <td>0</td>\n",
       "      <td>0</td>\n",
       "      <td>1</td>\n",
       "      <td>0</td>\n",
       "      <td>1</td>\n",
       "    </tr>\n",
       "    <tr>\n",
       "      <th>1486</th>\n",
       "      <td>2957</td>\n",
       "      <td>24</td>\n",
       "      <td>4</td>\n",
       "      <td>2</td>\n",
       "      <td>1</td>\n",
       "      <td>0</td>\n",
       "      <td>0</td>\n",
       "      <td>0</td>\n",
       "      <td>1</td>\n",
       "      <td>1</td>\n",
       "      <td>0</td>\n",
       "    </tr>\n",
       "    <tr>\n",
       "      <th>4286</th>\n",
       "      <td>590</td>\n",
       "      <td>6</td>\n",
       "      <td>3</td>\n",
       "      <td>1</td>\n",
       "      <td>1</td>\n",
       "      <td>0</td>\n",
       "      <td>0</td>\n",
       "      <td>1</td>\n",
       "      <td>0</td>\n",
       "      <td>1</td>\n",
       "      <td>0</td>\n",
       "    </tr>\n",
       "  </tbody>\n",
       "</table>\n",
       "</div>"
      ],
      "text/plain": [
       "      Credit_Amount  Duration_in_Months  Current_Address_Yrs  Num_Credits  \\\n",
       "2706            338                   6                    4            2   \n",
       "2436           2625                  16                    4            1   \n",
       "1201           6304                  36                    4            2   \n",
       "1486           2957                  24                    4            2   \n",
       "4286            590                   6                    3            1   \n",
       "\n",
       "      Num_Dependents  Default_On_Payment  Dummy_A171  Dummy_A172  Dummy_A173  \\\n",
       "2706               1                   0           0           0           1   \n",
       "2436               1                   1           0           0           1   \n",
       "1201               1                   0           0           0           1   \n",
       "1486               1                   0           0           0           1   \n",
       "4286               1                   0           0           1           0   \n",
       "\n",
       "      Dummy_Purpose_Credit_Taken_Low  Dummy_Purpose_Credit_Taken_High  \n",
       "2706                               1                                0  \n",
       "2436                               0                                1  \n",
       "1201                               0                                1  \n",
       "1486                               1                                0  \n",
       "4286                               1                                0  "
      ]
     },
     "execution_count": 133,
     "metadata": {},
     "output_type": "execute_result"
    }
   ],
   "source": [
    "df2 = model_data._get_numeric_data() #drop non-numeric cols\n",
    "df2.head()"
   ]
  },
  {
   "cell_type": "code",
   "execution_count": 134,
   "metadata": {},
   "outputs": [
    {
     "data": {
      "text/plain": [
       "array([[ 338,    6,    4, ...,    1,    1,    0],\n",
       "       [2625,   16,    4, ...,    1,    0,    1],\n",
       "       [6304,   36,    4, ...,    1,    0,    1],\n",
       "       ...,\n",
       "       [7721,   24,    2, ...,    1,    0,    0],\n",
       "       [2759,   12,    4, ...,    1,    0,    0],\n",
       "       [ 368,    6,    4, ...,    1,    1,    0]], dtype=int64)"
      ]
     },
     "execution_count": 134,
     "metadata": {},
     "output_type": "execute_result"
    }
   ],
   "source": [
    "X = df2.loc[:, df2.columns!='Default_On_Payment'].values #df.drop('b', axis=1)\n",
    "X"
   ]
  },
  {
   "cell_type": "code",
   "execution_count": 135,
   "metadata": {},
   "outputs": [
    {
     "data": {
      "text/plain": [
       "array([0, 1, 0, ..., 0, 0, 0], dtype=int64)"
      ]
     },
     "execution_count": 135,
     "metadata": {},
     "output_type": "execute_result"
    }
   ],
   "source": [
    "#y = dataset.iloc[:, 4].values\n",
    "y = df2.iloc[:, 5].values\n",
    "y"
   ]
  },
  {
   "cell_type": "code",
   "execution_count": 136,
   "metadata": {},
   "outputs": [
    {
     "name": "stdout",
     "output_type": "stream",
     "text": [
      "Optimization terminated successfully.\n",
      "         Current function value: 0.569269\n",
      "         Iterations 5\n"
     ]
    },
    {
     "data": {
      "text/html": [
       "<table class=\"simpletable\">\n",
       "<caption>Logit Regression Results</caption>\n",
       "<tr>\n",
       "  <th>Dep. Variable:</th>         <td>y</td>        <th>  No. Observations:  </th>  <td>  3500</td>  \n",
       "</tr>\n",
       "<tr>\n",
       "  <th>Model:</th>               <td>Logit</td>      <th>  Df Residuals:      </th>  <td>  3489</td>  \n",
       "</tr>\n",
       "<tr>\n",
       "  <th>Method:</th>               <td>MLE</td>       <th>  Df Model:          </th>  <td>    10</td>  \n",
       "</tr>\n",
       "<tr>\n",
       "  <th>Date:</th>          <td>Thu, 06 Feb 2020</td> <th>  Pseudo R-squ.:     </th>  <td>0.06360</td> \n",
       "</tr>\n",
       "<tr>\n",
       "  <th>Time:</th>              <td>12:58:25</td>     <th>  Log-Likelihood:    </th> <td> -1992.4</td> \n",
       "</tr>\n",
       "<tr>\n",
       "  <th>converged:</th>           <td>True</td>       <th>  LL-Null:           </th> <td> -2127.8</td> \n",
       "</tr>\n",
       "<tr>\n",
       "  <th> </th>                      <td> </td>        <th>  LLR p-value:       </th> <td>2.460e-52</td>\n",
       "</tr>\n",
       "</table>\n",
       "<table class=\"simpletable\">\n",
       "<tr>\n",
       "    <td></td>       <th>coef</th>     <th>std err</th>      <th>z</th>      <th>P>|z|</th>  <th>[0.025</th>    <th>0.975]</th>  \n",
       "</tr>\n",
       "<tr>\n",
       "  <th>const</th> <td>   -1.1261</td> <td>    0.219</td> <td>   -5.135</td> <td> 0.000</td> <td>   -1.556</td> <td>   -0.696</td>\n",
       "</tr>\n",
       "<tr>\n",
       "  <th>x1</th>    <td> 2.416e-05</td> <td> 1.74e-05</td> <td>    1.385</td> <td> 0.166</td> <td>   -1e-05</td> <td> 5.83e-05</td>\n",
       "</tr>\n",
       "<tr>\n",
       "  <th>x2</th>    <td>    0.0338</td> <td>    0.004</td> <td>    8.451</td> <td> 0.000</td> <td>    0.026</td> <td>    0.042</td>\n",
       "</tr>\n",
       "<tr>\n",
       "  <th>x3</th>    <td>   -0.0056</td> <td>    0.035</td> <td>   -0.157</td> <td> 0.875</td> <td>   -0.075</td> <td>    0.064</td>\n",
       "</tr>\n",
       "<tr>\n",
       "  <th>x4</th>    <td>   -0.2390</td> <td>    0.070</td> <td>   -3.392</td> <td> 0.001</td> <td>   -0.377</td> <td>   -0.101</td>\n",
       "</tr>\n",
       "<tr>\n",
       "  <th>x5</th>    <td>   -0.0404</td> <td>    0.111</td> <td>   -0.365</td> <td> 0.715</td> <td>   -0.257</td> <td>    0.176</td>\n",
       "</tr>\n",
       "<tr>\n",
       "  <th>x6</th>    <td>    0.0726</td> <td>    0.278</td> <td>    0.261</td> <td> 0.794</td> <td>   -0.472</td> <td>    0.617</td>\n",
       "</tr>\n",
       "<tr>\n",
       "  <th>x7</th>    <td>    0.0846</td> <td>    0.137</td> <td>    0.616</td> <td> 0.538</td> <td>   -0.185</td> <td>    0.354</td>\n",
       "</tr>\n",
       "<tr>\n",
       "  <th>x8</th>    <td>   -0.0055</td> <td>    0.114</td> <td>   -0.048</td> <td> 0.961</td> <td>   -0.229</td> <td>    0.218</td>\n",
       "</tr>\n",
       "<tr>\n",
       "  <th>x9</th>    <td>   -0.7367</td> <td>    0.109</td> <td>   -6.736</td> <td> 0.000</td> <td>   -0.951</td> <td>   -0.522</td>\n",
       "</tr>\n",
       "<tr>\n",
       "  <th>x10</th>   <td>    0.1879</td> <td>    0.103</td> <td>    1.825</td> <td> 0.068</td> <td>   -0.014</td> <td>    0.390</td>\n",
       "</tr>\n",
       "</table>"
      ],
      "text/plain": [
       "<class 'statsmodels.iolib.summary.Summary'>\n",
       "\"\"\"\n",
       "                           Logit Regression Results                           \n",
       "==============================================================================\n",
       "Dep. Variable:                      y   No. Observations:                 3500\n",
       "Model:                          Logit   Df Residuals:                     3489\n",
       "Method:                           MLE   Df Model:                           10\n",
       "Date:                Thu, 06 Feb 2020   Pseudo R-squ.:                 0.06360\n",
       "Time:                        12:58:25   Log-Likelihood:                -1992.4\n",
       "converged:                       True   LL-Null:                       -2127.8\n",
       "                                        LLR p-value:                 2.460e-52\n",
       "==============================================================================\n",
       "                 coef    std err          z      P>|z|      [0.025      0.975]\n",
       "------------------------------------------------------------------------------\n",
       "const         -1.1261      0.219     -5.135      0.000      -1.556      -0.696\n",
       "x1          2.416e-05   1.74e-05      1.385      0.166      -1e-05    5.83e-05\n",
       "x2             0.0338      0.004      8.451      0.000       0.026       0.042\n",
       "x3            -0.0056      0.035     -0.157      0.875      -0.075       0.064\n",
       "x4            -0.2390      0.070     -3.392      0.001      -0.377      -0.101\n",
       "x5            -0.0404      0.111     -0.365      0.715      -0.257       0.176\n",
       "x6             0.0726      0.278      0.261      0.794      -0.472       0.617\n",
       "x7             0.0846      0.137      0.616      0.538      -0.185       0.354\n",
       "x8            -0.0055      0.114     -0.048      0.961      -0.229       0.218\n",
       "x9            -0.7367      0.109     -6.736      0.000      -0.951      -0.522\n",
       "x10            0.1879      0.103      1.825      0.068      -0.014       0.390\n",
       "==============================================================================\n",
       "\"\"\""
      ]
     },
     "execution_count": 136,
     "metadata": {},
     "output_type": "execute_result"
    }
   ],
   "source": [
    "logit = sm.Logit(y,sm.add_constant(X))\n",
    "lg = logit.fit()\n",
    "lg.summary()\n"
   ]
  },
  {
   "cell_type": "code",
   "execution_count": 137,
   "metadata": {},
   "outputs": [
    {
     "data": {
      "text/plain": [
       "[0, 2, 4, 9]"
      ]
     },
     "execution_count": 137,
     "metadata": {},
     "output_type": "execute_result"
    }
   ],
   "source": [
    "def get_significant_vars( lm ):\n",
    " var_p_vals_df = pd.DataFrame( lm.pvalues )\n",
    " var_p_vals_df['vars'] = var_p_vals_df.index\n",
    " var_p_vals_df.columns = ['pvals', 'vars']\n",
    " return list( var_p_vals_df[var_p_vals_df.pvals <= 0.05]['vars'] )\n",
    "significant_vars = get_significant_vars( lg )\n",
    "significant_vars"
   ]
  },
  {
   "cell_type": "code",
   "execution_count": 138,
   "metadata": {},
   "outputs": [
    {
     "name": "stderr",
     "output_type": "stream",
     "text": [
      "C:\\Users\\skrag\\Anaconda3\\lib\\site-packages\\ipykernel_launcher.py:1: DeprecationWarning: \n",
      ".ix is deprecated. Please use\n",
      ".loc for label based indexing or\n",
      ".iloc for positional indexing\n",
      "\n",
      "See the documentation here:\n",
      "http://pandas.pydata.org/pandas-docs/stable/indexing.html#ix-indexer-is-deprecated\n",
      "  \"\"\"Entry point for launching an IPython kernel.\n"
     ]
    },
    {
     "data": {
      "text/plain": [
       "array([[ 338,    4,    1,    1],\n",
       "       [2625,    4,    1,    0],\n",
       "       [6304,    4,    1,    0],\n",
       "       ...,\n",
       "       [7721,    2,    1,    0],\n",
       "       [2759,    4,    1,    0],\n",
       "       [ 368,    4,    1,    1]], dtype=int64)"
      ]
     },
     "execution_count": 138,
     "metadata": {},
     "output_type": "execute_result"
    }
   ],
   "source": [
    "X = df2.ix[:,(0,2,4,9)].values\n",
    "X"
   ]
  },
  {
   "cell_type": "code",
   "execution_count": 139,
   "metadata": {},
   "outputs": [
    {
     "name": "stdout",
     "output_type": "stream",
     "text": [
      "Optimization terminated successfully.\n",
      "         Current function value: 0.582477\n",
      "         Iterations 5\n"
     ]
    },
    {
     "data": {
      "text/html": [
       "<table class=\"simpletable\">\n",
       "<caption>Logit Regression Results</caption>\n",
       "<tr>\n",
       "  <th>Dep. Variable:</th>         <td>y</td>        <th>  No. Observations:  </th>  <td>  3500</td>  \n",
       "</tr>\n",
       "<tr>\n",
       "  <th>Model:</th>               <td>Logit</td>      <th>  Df Residuals:      </th>  <td>  3495</td>  \n",
       "</tr>\n",
       "<tr>\n",
       "  <th>Method:</th>               <td>MLE</td>       <th>  Df Model:          </th>  <td>     4</td>  \n",
       "</tr>\n",
       "<tr>\n",
       "  <th>Date:</th>          <td>Thu, 06 Feb 2020</td> <th>  Pseudo R-squ.:     </th>  <td>0.04187</td> \n",
       "</tr>\n",
       "<tr>\n",
       "  <th>Time:</th>              <td>12:59:46</td>     <th>  Log-Likelihood:    </th> <td> -2038.7</td> \n",
       "</tr>\n",
       "<tr>\n",
       "  <th>converged:</th>           <td>True</td>       <th>  LL-Null:           </th> <td> -2127.8</td> \n",
       "</tr>\n",
       "<tr>\n",
       "  <th> </th>                      <td> </td>        <th>  LLR p-value:       </th> <td>1.832e-37</td>\n",
       "</tr>\n",
       "</table>\n",
       "<table class=\"simpletable\">\n",
       "<tr>\n",
       "    <td></td>       <th>coef</th>     <th>std err</th>      <th>z</th>      <th>P>|z|</th>  <th>[0.025</th>    <th>0.975]</th>  \n",
       "</tr>\n",
       "<tr>\n",
       "  <th>const</th> <td>   -0.8443</td> <td>    0.167</td> <td>   -5.049</td> <td> 0.000</td> <td>   -1.172</td> <td>   -0.517</td>\n",
       "</tr>\n",
       "<tr>\n",
       "  <th>x1</th>    <td>    0.0001</td> <td> 1.28e-05</td> <td>    8.496</td> <td> 0.000</td> <td>  8.4e-05</td> <td>    0.000</td>\n",
       "</tr>\n",
       "<tr>\n",
       "  <th>x2</th>    <td>   -0.0099</td> <td>    0.035</td> <td>   -0.286</td> <td> 0.775</td> <td>   -0.078</td> <td>    0.058</td>\n",
       "</tr>\n",
       "<tr>\n",
       "  <th>x3</th>    <td>   -0.0675</td> <td>    0.106</td> <td>   -0.636</td> <td> 0.525</td> <td>   -0.276</td> <td>    0.141</td>\n",
       "</tr>\n",
       "<tr>\n",
       "  <th>x4</th>    <td>   -0.8107</td> <td>    0.082</td> <td>   -9.906</td> <td> 0.000</td> <td>   -0.971</td> <td>   -0.650</td>\n",
       "</tr>\n",
       "</table>"
      ],
      "text/plain": [
       "<class 'statsmodels.iolib.summary.Summary'>\n",
       "\"\"\"\n",
       "                           Logit Regression Results                           \n",
       "==============================================================================\n",
       "Dep. Variable:                      y   No. Observations:                 3500\n",
       "Model:                          Logit   Df Residuals:                     3495\n",
       "Method:                           MLE   Df Model:                            4\n",
       "Date:                Thu, 06 Feb 2020   Pseudo R-squ.:                 0.04187\n",
       "Time:                        12:59:46   Log-Likelihood:                -2038.7\n",
       "converged:                       True   LL-Null:                       -2127.8\n",
       "                                        LLR p-value:                 1.832e-37\n",
       "==============================================================================\n",
       "                 coef    std err          z      P>|z|      [0.025      0.975]\n",
       "------------------------------------------------------------------------------\n",
       "const         -0.8443      0.167     -5.049      0.000      -1.172      -0.517\n",
       "x1             0.0001   1.28e-05      8.496      0.000     8.4e-05       0.000\n",
       "x2            -0.0099      0.035     -0.286      0.775      -0.078       0.058\n",
       "x3            -0.0675      0.106     -0.636      0.525      -0.276       0.141\n",
       "x4            -0.8107      0.082     -9.906      0.000      -0.971      -0.650\n",
       "==============================================================================\n",
       "\"\"\""
      ]
     },
     "execution_count": 139,
     "metadata": {},
     "output_type": "execute_result"
    }
   ],
   "source": [
    "logit = sm.Logit( y, sm.add_constant(X) )\n",
    "lg = logit.fit()\n",
    "lg.summary()\n"
   ]
  },
  {
   "cell_type": "code",
   "execution_count": 140,
   "metadata": {},
   "outputs": [
    {
     "data": {
      "text/plain": [
       "[0, 1, 4]"
      ]
     },
     "execution_count": 140,
     "metadata": {},
     "output_type": "execute_result"
    }
   ],
   "source": [
    "significant_vars = get_significant_vars( lg )\n",
    "significant_vars\n"
   ]
  },
  {
   "cell_type": "code",
   "execution_count": 141,
   "metadata": {},
   "outputs": [
    {
     "name": "stderr",
     "output_type": "stream",
     "text": [
      "C:\\Users\\skrag\\Anaconda3\\lib\\site-packages\\ipykernel_launcher.py:1: DeprecationWarning: \n",
      ".ix is deprecated. Please use\n",
      ".loc for label based indexing or\n",
      ".iloc for positional indexing\n",
      "\n",
      "See the documentation here:\n",
      "http://pandas.pydata.org/pandas-docs/stable/indexing.html#ix-indexer-is-deprecated\n",
      "  \"\"\"Entry point for launching an IPython kernel.\n"
     ]
    },
    {
     "data": {
      "text/plain": [
       "array([[ 338,    6,    1],\n",
       "       [2625,   16,    1],\n",
       "       [6304,   36,    1],\n",
       "       ...,\n",
       "       [7721,   24,    1],\n",
       "       [2759,   12,    1],\n",
       "       [ 368,    6,    1]], dtype=int64)"
      ]
     },
     "execution_count": 141,
     "metadata": {},
     "output_type": "execute_result"
    }
   ],
   "source": [
    "X = df2.ix[:,(0,1,4)].values\n",
    "X"
   ]
  },
  {
   "cell_type": "code",
   "execution_count": 142,
   "metadata": {},
   "outputs": [
    {
     "name": "stdout",
     "output_type": "stream",
     "text": [
      "Optimization terminated successfully.\n",
      "         Current function value: 0.587838\n",
      "         Iterations 5\n"
     ]
    }
   ],
   "source": [
    "logit = sm.Logit( y, sm.add_constant(X) )\n",
    "lg = logit.fit()"
   ]
  },
  {
   "cell_type": "code",
   "execution_count": 143,
   "metadata": {},
   "outputs": [
    {
     "data": {
      "text/html": [
       "<table class=\"simpletable\">\n",
       "<caption>Logit Regression Results</caption>\n",
       "<tr>\n",
       "  <th>Dep. Variable:</th>         <td>y</td>        <th>  No. Observations:  </th>  <td>  3500</td>  \n",
       "</tr>\n",
       "<tr>\n",
       "  <th>Model:</th>               <td>Logit</td>      <th>  Df Residuals:      </th>  <td>  3496</td>  \n",
       "</tr>\n",
       "<tr>\n",
       "  <th>Method:</th>               <td>MLE</td>       <th>  Df Model:          </th>  <td>     3</td>  \n",
       "</tr>\n",
       "<tr>\n",
       "  <th>Date:</th>          <td>Thu, 06 Feb 2020</td> <th>  Pseudo R-squ.:     </th>  <td>0.03305</td> \n",
       "</tr>\n",
       "<tr>\n",
       "  <th>Time:</th>              <td>13:00:27</td>     <th>  Log-Likelihood:    </th> <td> -2057.4</td> \n",
       "</tr>\n",
       "<tr>\n",
       "  <th>converged:</th>           <td>True</td>       <th>  LL-Null:           </th> <td> -2127.8</td> \n",
       "</tr>\n",
       "<tr>\n",
       "  <th> </th>                      <td> </td>        <th>  LLR p-value:       </th> <td>2.736e-30</td>\n",
       "</tr>\n",
       "</table>\n",
       "<table class=\"simpletable\">\n",
       "<tr>\n",
       "    <td></td>       <th>coef</th>     <th>std err</th>      <th>z</th>      <th>P>|z|</th>  <th>[0.025</th>    <th>0.975]</th>  \n",
       "</tr>\n",
       "<tr>\n",
       "  <th>const</th> <td>   -1.6055</td> <td>    0.145</td> <td>  -11.064</td> <td> 0.000</td> <td>   -1.890</td> <td>   -1.321</td>\n",
       "</tr>\n",
       "<tr>\n",
       "  <th>x1</th>    <td> 2.717e-05</td> <td> 1.63e-05</td> <td>    1.671</td> <td> 0.095</td> <td> -4.7e-06</td> <td>  5.9e-05</td>\n",
       "</tr>\n",
       "<tr>\n",
       "  <th>x2</th>    <td>    0.0311</td> <td>    0.004</td> <td>    8.059</td> <td> 0.000</td> <td>    0.024</td> <td>    0.039</td>\n",
       "</tr>\n",
       "<tr>\n",
       "  <th>x3</th>    <td>   -0.0281</td> <td>    0.106</td> <td>   -0.264</td> <td> 0.792</td> <td>   -0.237</td> <td>    0.180</td>\n",
       "</tr>\n",
       "</table>"
      ],
      "text/plain": [
       "<class 'statsmodels.iolib.summary.Summary'>\n",
       "\"\"\"\n",
       "                           Logit Regression Results                           \n",
       "==============================================================================\n",
       "Dep. Variable:                      y   No. Observations:                 3500\n",
       "Model:                          Logit   Df Residuals:                     3496\n",
       "Method:                           MLE   Df Model:                            3\n",
       "Date:                Thu, 06 Feb 2020   Pseudo R-squ.:                 0.03305\n",
       "Time:                        13:00:27   Log-Likelihood:                -2057.4\n",
       "converged:                       True   LL-Null:                       -2127.8\n",
       "                                        LLR p-value:                 2.736e-30\n",
       "==============================================================================\n",
       "                 coef    std err          z      P>|z|      [0.025      0.975]\n",
       "------------------------------------------------------------------------------\n",
       "const         -1.6055      0.145    -11.064      0.000      -1.890      -1.321\n",
       "x1          2.717e-05   1.63e-05      1.671      0.095    -4.7e-06     5.9e-05\n",
       "x2             0.0311      0.004      8.059      0.000       0.024       0.039\n",
       "x3            -0.0281      0.106     -0.264      0.792      -0.237       0.180\n",
       "==============================================================================\n",
       "\"\"\""
      ]
     },
     "execution_count": 143,
     "metadata": {},
     "output_type": "execute_result"
    }
   ],
   "source": [
    "lg.summary()"
   ]
  },
  {
   "cell_type": "code",
   "execution_count": 149,
   "metadata": {},
   "outputs": [
    {
     "data": {
      "text/plain": [
       "[0, 2]"
      ]
     },
     "execution_count": 149,
     "metadata": {},
     "output_type": "execute_result"
    }
   ],
   "source": [
    "significant_vars = get_significant_vars( lg )\n",
    "significant_vars"
   ]
  },
  {
   "cell_type": "code",
   "execution_count": null,
   "metadata": {},
   "outputs": [],
   "source": []
  }
 ],
 "metadata": {
  "kernelspec": {
   "display_name": "Python 3",
   "language": "python",
   "name": "python3"
  },
  "language_info": {
   "codemirror_mode": {
    "name": "ipython",
    "version": 3
   },
   "file_extension": ".py",
   "mimetype": "text/x-python",
   "name": "python",
   "nbconvert_exporter": "python",
   "pygments_lexer": "ipython3",
   "version": "3.7.3"
  }
 },
 "nbformat": 4,
 "nbformat_minor": 2
}
